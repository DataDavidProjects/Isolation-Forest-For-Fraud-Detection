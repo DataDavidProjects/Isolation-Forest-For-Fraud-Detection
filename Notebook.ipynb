{
 "cells": [
  {
   "cell_type": "code",
   "execution_count": 1,
   "id": "c6edf35a-9324-4dc6-9060-2a1b2a4e9cd0",
   "metadata": {
    "tags": []
   },
   "outputs": [
    {
     "name": "stdout",
     "output_type": "stream",
     "text": [
      "Execution time: 171.34277200698853 seconds\n"
     ]
    }
   ],
   "source": [
    "import sys\n",
    "sys.path.append(\"/Isolation-Forest-For-Fraud-Detection/src/\")\n",
    "import numpy as np\n",
    "import pandas as pd\n",
    "from sklearn.ensemble import IsolationForest\n",
    "from src.preprocessing.data import read_all_trx, train_test_split_transactions\n",
    "from src.preprocessing.features import create_feature_matrix\n",
    "from src.model.performance import evaluate_model, random_search_cv,time_window_cv\n",
    "from src.preprocessing.helpers import scenario_sample\n",
    "from sklearn.metrics import roc_auc_score\n",
    "import matplotlib.pyplot as plt\n",
    "import seaborn as sns\n",
    "from matplotlib.colors import ListedColormap\n",
    "#______________________________ DATA______________________________________\n",
    "start = '2018-04-01'\n",
    "end = '2018-09-30'\n",
    "calendar = pd.date_range(start, end, inclusive=\"both\").strftime('%Y-%m-%d')\n",
    "root = \"https://github.com/Fraud-Detection-Handbook/simulated-data-raw/blob/main/data/\"\n",
    "path_data = [f\"{root}{date}.pkl?raw=true\" for date in calendar]\n",
    "transactions_df = read_all_trx(path_data).sort_values('TX_DATETIME').reset_index(drop=True)\n",
    "scenario_1 = transactions_df.loc[transactions_df[\"TX_FRAUD_SCENARIO\"] == 1]\n",
    "scenario_2 = transactions_df.loc[transactions_df[\"TX_FRAUD_SCENARIO\"] == 2]\n",
    "scenario_3 = transactions_df.loc[transactions_df[\"TX_FRAUD_SCENARIO\"] == 3]\n",
    "#_________________________________________________________________________"
   ]
  },
  {
   "cell_type": "code",
   "execution_count": 61,
   "id": "ffa70075-9cde-4a5e-a206-78defb76944f",
   "metadata": {
    "tags": []
   },
   "outputs": [
    {
     "data": {
      "text/html": [
       "<div>\n",
       "<style scoped>\n",
       "    .dataframe tbody tr th:only-of-type {\n",
       "        vertical-align: middle;\n",
       "    }\n",
       "\n",
       "    .dataframe tbody tr th {\n",
       "        vertical-align: top;\n",
       "    }\n",
       "\n",
       "    .dataframe thead th {\n",
       "        text-align: right;\n",
       "    }\n",
       "</style>\n",
       "<table border=\"1\" class=\"dataframe\">\n",
       "  <thead>\n",
       "    <tr style=\"text-align: right;\">\n",
       "      <th></th>\n",
       "      <th>TRANSACTION_ID</th>\n",
       "      <th>TX_DATETIME</th>\n",
       "      <th>CUSTOMER_ID</th>\n",
       "      <th>TERMINAL_ID</th>\n",
       "      <th>TX_AMOUNT</th>\n",
       "      <th>TX_TIME_SECONDS</th>\n",
       "      <th>TX_TIME_DAYS</th>\n",
       "      <th>TX_FRAUD</th>\n",
       "      <th>TX_FRAUD_SCENARIO</th>\n",
       "    </tr>\n",
       "  </thead>\n",
       "  <tbody>\n",
       "    <tr>\n",
       "      <th>3527</th>\n",
       "      <td>3527</td>\n",
       "      <td>2018-04-01 10:17:43</td>\n",
       "      <td>3774</td>\n",
       "      <td>3059</td>\n",
       "      <td>225.41</td>\n",
       "      <td>37063</td>\n",
       "      <td>0</td>\n",
       "      <td>1</td>\n",
       "      <td>1</td>\n",
       "    </tr>\n",
       "    <tr>\n",
       "      <th>5789</th>\n",
       "      <td>5790</td>\n",
       "      <td>2018-04-01 13:31:48</td>\n",
       "      <td>4944</td>\n",
       "      <td>6050</td>\n",
       "      <td>222.26</td>\n",
       "      <td>48708</td>\n",
       "      <td>0</td>\n",
       "      <td>1</td>\n",
       "      <td>1</td>\n",
       "    </tr>\n",
       "    <tr>\n",
       "      <th>6549</th>\n",
       "      <td>6549</td>\n",
       "      <td>2018-04-01 14:42:02</td>\n",
       "      <td>4625</td>\n",
       "      <td>9102</td>\n",
       "      <td>226.40</td>\n",
       "      <td>52922</td>\n",
       "      <td>0</td>\n",
       "      <td>1</td>\n",
       "      <td>1</td>\n",
       "    </tr>\n",
       "    <tr>\n",
       "      <th>10354</th>\n",
       "      <td>10355</td>\n",
       "      <td>2018-04-02 05:03:35</td>\n",
       "      <td>2513</td>\n",
       "      <td>1143</td>\n",
       "      <td>222.04</td>\n",
       "      <td>104615</td>\n",
       "      <td>1</td>\n",
       "      <td>1</td>\n",
       "      <td>1</td>\n",
       "    </tr>\n",
       "    <tr>\n",
       "      <th>10749</th>\n",
       "      <td>10749</td>\n",
       "      <td>2018-04-02 06:06:00</td>\n",
       "      <td>3770</td>\n",
       "      <td>5671</td>\n",
       "      <td>264.95</td>\n",
       "      <td>108360</td>\n",
       "      <td>1</td>\n",
       "      <td>1</td>\n",
       "      <td>1</td>\n",
       "    </tr>\n",
       "  </tbody>\n",
       "</table>\n",
       "</div>"
      ],
      "text/plain": [
       "       TRANSACTION_ID         TX_DATETIME CUSTOMER_ID TERMINAL_ID  TX_AMOUNT  \\\n",
       "3527             3527 2018-04-01 10:17:43        3774        3059     225.41   \n",
       "5789             5790 2018-04-01 13:31:48        4944        6050     222.26   \n",
       "6549             6549 2018-04-01 14:42:02        4625        9102     226.40   \n",
       "10354           10355 2018-04-02 05:03:35        2513        1143     222.04   \n",
       "10749           10749 2018-04-02 06:06:00        3770        5671     264.95   \n",
       "\n",
       "      TX_TIME_SECONDS TX_TIME_DAYS  TX_FRAUD  TX_FRAUD_SCENARIO  \n",
       "3527            37063            0         1                  1  \n",
       "5789            48708            0         1                  1  \n",
       "6549            52922            0         1                  1  \n",
       "10354          104615            1         1                  1  \n",
       "10749          108360            1         1                  1  "
      ]
     },
     "execution_count": 61,
     "metadata": {},
     "output_type": "execute_result"
    }
   ],
   "source": [
    "scenario_1.head()"
   ]
  },
  {
   "cell_type": "code",
   "execution_count": 6,
   "id": "245769fe-f6b0-4de0-988c-ed6a79011bf0",
   "metadata": {
    "tags": []
   },
   "outputs": [
    {
     "data": {
      "text/plain": [
       "(1754155, 9)"
      ]
     },
     "execution_count": 6,
     "metadata": {},
     "output_type": "execute_result"
    }
   ],
   "source": [
    "transactions_df.shape"
   ]
  },
  {
   "cell_type": "code",
   "execution_count": 4,
   "id": "4f609594-fdc8-410b-85b9-eff23c72f912",
   "metadata": {
    "tags": []
   },
   "outputs": [
    {
     "name": "stdout",
     "output_type": "stream",
     "text": [
      "Execution time: 217.98134803771973 seconds\n",
      "Execution time: 121.00021052360535 seconds\n",
      "Execution time: 7.047279596328735 seconds\n",
      "Execution time: 351.19940733909607 seconds\n"
     ]
    }
   ],
   "source": [
    "#__________________________ FEATURES _________________________________\n",
    "X = create_feature_matrix(transactions_df,windows_size_in_days = [1,5,7,15,30],delay_period=7)\n",
    "target = \"TX_FRAUD\"\n",
    "\n",
    "index = \"TX_DATETIME\"\n",
    "\n",
    "train_period = \"2018-07-01\"\n",
    "\n",
    "customer_features = [i for i in X.columns if \"CUSTOMER_ID_\" in i]\n",
    "\n",
    "flag_features = [i for i in X.columns if \"TX_FLAG_\" in i]\n",
    "\n",
    "terminal_features = [i for i in X.columns if \"TERMINAL_ID_\" in i]\n",
    "\n",
    "time_features = ['TX_TIME_SECONDS', 'TX_TIME_DAYS', 'TX_MONTH', 'TX_DAY', 'TX_HOUR', 'TX_MINUTE', 'TX_DURING_WEEKEND',\n",
    "                 'TX_DURING_NIGHT']\n",
    "\n",
    "helper_columns = ['TX_FRAUD', 'TX_FRAUD_SCENARIO', 'TX_DATETIME', 'CUSTOMER_ID', 'TERMINAL_ID']\n",
    "\n",
    "features = ['TX_AMOUNT'] + flag_features + terminal_features + customer_features + time_features\n",
    "#___________________________________________________________________"
   ]
  },
  {
   "cell_type": "code",
   "execution_count": null,
   "id": "79bc941b-9408-4ccb-a45c-83d08c459768",
   "metadata": {
    "tags": []
   },
   "outputs": [],
   "source": [
    "#______________________________ TIME WINDOW SPLIT____________________________\n",
    "model = IsolationForest()\n",
    "results_ts = time_window_cv(transactions_df,model,features)\n",
    "#____________________________________________________________________________"
   ]
  },
  {
   "cell_type": "code",
   "execution_count": null,
   "id": "b265e99a-d385-415a-aed9-4af1de4ba459",
   "metadata": {
    "tags": []
   },
   "outputs": [],
   "source": [
    "results_ts.columns"
   ]
  },
  {
   "cell_type": "code",
   "execution_count": null,
   "id": "6c3d6776-8229-4288-94db-7e509c27bde8",
   "metadata": {
    "tags": []
   },
   "outputs": [],
   "source": [
    "s = results_ts[\"validation\"][1].round(2)\n",
    "s.index = ['isolation forest','dummy model','random guess']\n",
    "\n",
    "time_props = \"Validation of Sliding Time Window\"\n",
    "legend_props = \"Train:05-07;Test:08-09\"\n",
    "my_cmap = sns.light_palette(\"Blue\", as_cmap=True)\n",
    "fig, ax = plt.subplots(layout='constrained',figsize=(10, 4))\n",
    "ax.set_title(f\"{time_props}\")\n",
    "ax.set_xlabel(\"AUC\")\n",
    "colorad = [\"#457b9d\", \"#98c1d9\", \"#3d5a80\"]\n",
    "ax.barh(y = s.index,width = s.values, color=colorad[::-1])\n",
    "ax.bar_label(ax.containers[0],fontsize=8, padding=3)\n",
    "ax.spines[['right', 'top']].set_visible(False)\n",
    "ax.legend([legend_props])\n",
    "\n",
    "fig.savefig('auc_sliding_time_window_2.png',transparent=True)"
   ]
  },
  {
   "cell_type": "code",
   "execution_count": null,
   "id": "3ecf1e1c-9b95-409c-8571-2a678bc2a759",
   "metadata": {
    "tags": []
   },
   "outputs": [],
   "source": [
    "condition = transactions_df[\"TX_DATETIME\"].between(results_ts.loc[0,\"test_start\"],\n",
    "                                                   results_ts.loc[0,\"test_end\"])\n",
    "transactions_df.loc[condition,\"TX_FRAUD_SCENARIO\"].value_counts()"
   ]
  },
  {
   "cell_type": "code",
   "execution_count": null,
   "id": "ce963484-e12d-4316-bb98-7af125ff586f",
   "metadata": {
    "tags": []
   },
   "outputs": [],
   "source": [
    "condition = transactions_df[\"TX_DATETIME\"].between(results_ts.loc[1,\"test_start\"],\n",
    "                                                   results_ts.loc[1,\"test_end\"])\n",
    "transactions_df.loc[condition,\"TX_FRAUD_SCENARIO\"].value_counts()"
   ]
  },
  {
   "cell_type": "code",
   "execution_count": 45,
   "id": "50766de0-fdfb-499a-a759-1f0f6451023a",
   "metadata": {
    "tags": []
   },
   "outputs": [
    {
     "name": "stdout",
     "output_type": "stream",
     "text": [
      "Creating features...\n",
      "Execution time: 191.3213882446289 seconds\n",
      "Execution time: 102.61058163642883 seconds\n",
      "Execution time: 6.748739957809448 seconds\n",
      "Execution time: 305.64974451065063 seconds\n",
      "Start Time Cross Validation...\n",
      "Train: 2018-04-01 00:00:31 2018-06-01 00:00:31\n",
      "Test: 2018-07-01 00:00:31 2018-08-01 00:00:31\n",
      "Train: 2018-05-01 00:00:31 2018-07-01 00:00:31\n",
      "Test: 2018-08-01 00:00:31 2018-09-01 00:00:31\n"
     ]
    },
    {
     "name": "stderr",
     "output_type": "stream",
     "text": [
      "C:\\Users\\david\\AppData\\Local\\Temp\\ipykernel_6152\\772511674.py:8: FutureWarning: In a future version of pandas all arguments of concat except for the argument 'objs' will be keyword-only.\n",
      "  auc_are_feat_type = pd.concat([auc_are_feat_type,time_window_cv(transactions_df,model,feats)],0)\n"
     ]
    },
    {
     "name": "stdout",
     "output_type": "stream",
     "text": [
      "Creating features...\n",
      "Execution time: 192.74752259254456 seconds\n",
      "Execution time: 107.33321833610535 seconds\n",
      "Execution time: 7.301461458206177 seconds\n",
      "Execution time: 312.3451085090637 seconds\n",
      "Start Time Cross Validation...\n",
      "Train: 2018-04-01 00:00:31 2018-06-01 00:00:31\n",
      "Test: 2018-07-01 00:00:31 2018-08-01 00:00:31\n",
      "Train: 2018-05-01 00:00:31 2018-07-01 00:00:31\n",
      "Test: 2018-08-01 00:00:31 2018-09-01 00:00:31\n"
     ]
    },
    {
     "name": "stderr",
     "output_type": "stream",
     "text": [
      "C:\\Users\\david\\AppData\\Local\\Temp\\ipykernel_6152\\772511674.py:8: FutureWarning: In a future version of pandas all arguments of concat except for the argument 'objs' will be keyword-only.\n",
      "  auc_are_feat_type = pd.concat([auc_are_feat_type,time_window_cv(transactions_df,model,feats)],0)\n"
     ]
    },
    {
     "name": "stdout",
     "output_type": "stream",
     "text": [
      "Creating features...\n",
      "Execution time: 189.80098700523376 seconds\n",
      "Execution time: 105.84141683578491 seconds\n",
      "Execution time: 6.475617170333862 seconds\n",
      "Execution time: 306.75837111473083 seconds\n",
      "Start Time Cross Validation...\n",
      "Train: 2018-04-01 00:00:31 2018-06-01 00:00:31\n",
      "Test: 2018-07-01 00:00:31 2018-08-01 00:00:31\n",
      "Train: 2018-05-01 00:00:31 2018-07-01 00:00:31\n",
      "Test: 2018-08-01 00:00:31 2018-09-01 00:00:31\n"
     ]
    },
    {
     "name": "stderr",
     "output_type": "stream",
     "text": [
      "C:\\Users\\david\\AppData\\Local\\Temp\\ipykernel_6152\\772511674.py:8: FutureWarning: In a future version of pandas all arguments of concat except for the argument 'objs' will be keyword-only.\n",
      "  auc_are_feat_type = pd.concat([auc_are_feat_type,time_window_cv(transactions_df,model,feats)],0)\n"
     ]
    },
    {
     "name": "stdout",
     "output_type": "stream",
     "text": [
      "Creating features...\n",
      "Execution time: 229.0801899433136 seconds\n",
      "Execution time: 125.47880172729492 seconds\n",
      "Execution time: 7.713087558746338 seconds\n",
      "Execution time: 367.669881105423 seconds\n",
      "Start Time Cross Validation...\n",
      "Train: 2018-04-01 00:00:31 2018-06-01 00:00:31\n",
      "Test: 2018-07-01 00:00:31 2018-08-01 00:00:31\n",
      "Train: 2018-05-01 00:00:31 2018-07-01 00:00:31\n",
      "Test: 2018-08-01 00:00:31 2018-09-01 00:00:31\n"
     ]
    },
    {
     "name": "stderr",
     "output_type": "stream",
     "text": [
      "C:\\Users\\david\\AppData\\Local\\Temp\\ipykernel_6152\\772511674.py:8: FutureWarning: In a future version of pandas all arguments of concat except for the argument 'objs' will be keyword-only.\n",
      "  auc_are_feat_type = pd.concat([auc_are_feat_type,time_window_cv(transactions_df,model,feats)],0)\n"
     ]
    },
    {
     "name": "stdout",
     "output_type": "stream",
     "text": [
      "Creating features...\n",
      "Execution time: 196.10535645484924 seconds\n",
      "Execution time: 110.14644241333008 seconds\n",
      "Execution time: 6.401703119277954 seconds\n",
      "Execution time: 317.2700538635254 seconds\n",
      "Start Time Cross Validation...\n",
      "Train: 2018-04-01 00:00:31 2018-06-01 00:00:31\n",
      "Test: 2018-07-01 00:00:31 2018-08-01 00:00:31\n",
      "Train: 2018-05-01 00:00:31 2018-07-01 00:00:31\n",
      "Test: 2018-08-01 00:00:31 2018-09-01 00:00:31\n"
     ]
    },
    {
     "name": "stderr",
     "output_type": "stream",
     "text": [
      "C:\\Users\\david\\AppData\\Local\\Temp\\ipykernel_6152\\772511674.py:8: FutureWarning: In a future version of pandas all arguments of concat except for the argument 'objs' will be keyword-only.\n",
      "  auc_are_feat_type = pd.concat([auc_are_feat_type,time_window_cv(transactions_df,model,feats)],0)\n",
      "C:\\Users\\david\\AppData\\Local\\Temp\\ipykernel_6152\\772511674.py:20: FutureWarning: In a future version of pandas all arguments of concat except for the argument 'objs' will be keyword-only.\n",
      "  auc_are_feat_type = pd.concat([auc_are_feat_type,validation_values],1)\n"
     ]
    }
   ],
   "source": [
    "model = IsolationForest()\n",
    "#________________________ FEATURE INDEPENDENT SPLIT _________________________\n",
    "basic = ['TX_AMOUNT','TX_TIME_SECONDS', 'TX_TIME_DAYS']\n",
    "features = ['TX_AMOUNT'] + flag_features + terminal_features + customer_features + time_features\n",
    "auc_are_feat_type  = pd.DataFrame()\n",
    "for feats in [basic,customer_features,time_features,terminal_features,features]:\n",
    "    # Reports Performance\n",
    "    auc_are_feat_type = pd.concat([auc_are_feat_type,time_window_cv(transactions_df,model,feats)],0)\n",
    "\n",
    "indexlist = []\n",
    "for feat in [\"raw_features\", \"customer_features\", \"time_features\", \"terminal_features\",\"total_features\"]:\n",
    "    for time in range(1, 3):\n",
    "        indexname = feat + f\"_time_folder_{time}\"\n",
    "        indexlist.append(indexname)\n",
    "auc_are_feat_type.index = indexlist\n",
    "\n",
    "validation_values  = auc_are_feat_type[\"validation\"].explode()[0::3]\n",
    "validation_values.name = \"AUC\"\n",
    "validation_values.index = indexlist\n",
    "auc_are_feat_type = pd.concat([auc_are_feat_type,validation_values],1)"
   ]
  },
  {
   "cell_type": "code",
   "execution_count": 46,
   "id": "04e0145c-37d2-459e-af10-6120b1011da6",
   "metadata": {
    "tags": []
   },
   "outputs": [
    {
     "data": {
      "image/png": "[encoded data removed]",
      "text/plain": [
       "<Figure size 700x500 with 1 Axes>"
      ]
     },
     "metadata": {},
     "output_type": "display_data"
    }
   ],
   "source": [
    "aucs = auc_are_feat_type[\"AUC\"].astype(float).round(3)\n",
    "# data from https://allisonhorst.github.io/palmerpenguins/\n",
    "colorad = [\"#457b9d\",\"#e0fbfc\", \"#98c1d9\", \"#3d5a80\",\"#293241\"]\n",
    "keycol = ['Basic Features','Customer Features','Time Features','Terminal Features','Total Features']\n",
    "color_p = {k:v for k,v in zip(keycol,colorad)}\n",
    "time = (\"Time Window 1\", \"Time Window 2\")\n",
    "auc_means = {\n",
    "    'Basic Features': (aucs[\"raw_features_time_folder_1\"], aucs[\"raw_features_time_folder_2\"]),\n",
    "    'Customer Features':  (aucs[\"customer_features_time_folder_1\"], aucs[\"customer_features_time_folder_2\"]),\n",
    "    'Time Features':  (aucs[\"time_features_time_folder_1\"], aucs[\"time_features_time_folder_2\"]),\n",
    "    'Terminal Features':  (aucs[\"terminal_features_time_folder_1\"], aucs[\"terminal_features_time_folder_2\"]),\n",
    "    'Total Features':   (aucs[\"total_features_time_folder_1\"], aucs[\"total_features_time_folder_2\"])\n",
    "}\n",
    "\n",
    "x = np.arange(len(time))  # the label locations\n",
    "width = 0.1  # the width of the bars\n",
    "multiplier = 0\n",
    "fig, ax = plt.subplots(layout='constrained',figsize=(7,5))\n",
    "\n",
    "for attribute, measurement in auc_means.items():\n",
    "    offset = width * multiplier\n",
    "    rects = ax.bar(x + offset, measurement, width, label=attribute, color=color_p[attribute],edgecolor='grey')\n",
    "    ax.bar_label(rects, padding=3)\n",
    "    multiplier += 1\n",
    "\n",
    "# Add some text for labels, title and custom x-axis tick labels, etc.\n",
    "ax.set_ylabel('AUC')\n",
    "ax.set_title('Area of Investigation')\n",
    "ax.set_xticks(x + width, time)\n",
    "ax.legend(loc='best', ncols=3)\n",
    "ax.set_ylim(0, 1.1)\n",
    "ax.spines[['right', 'top']].set_visible(False)\n",
    "plt.show()\n",
    "fig.savefig('auc_features.png',transparent=True)"
   ]
  },
  {
   "cell_type": "code",
   "execution_count": null,
   "id": "39aff945-ba85-4c33-abfd-85e550f7da30",
   "metadata": {
    "tags": []
   },
   "outputs": [],
   "source": [
    "model = IsolationForest()\n",
    "#________________________ SCENARIO  SPLIT ___________________________________\n",
    "scenario_sensitivity = []\n",
    "data_scenarios = []\n",
    "for scenario in transactions_df[\"TX_FRAUD_SCENARIO\"].unique()[1:]:\n",
    "    scenario_x = scenario_sample(transactions_df,scenario)\n",
    "    X_train,X_test,y_train,y_test = train_test_split_transactions(create_feature_matrix(scenario_x,\n",
    "                                                                                        windows_size_in_days=[1, 5, 7, 15,30],\n",
    "                                                                                        delay_period=7),\n",
    "                                                                  features,\n",
    "                                                                  train_start=\"2018-04-01\", train_end=\"2018-07-01\",\n",
    "                                                                  test_start=\"2018-08-01\",  test_end=\"2018-09-01\",\n",
    "                                                                  target=\"TX_FRAUD\")\n",
    "    \n",
    "    \n",
    "    # Fitting the model\n",
    "    model.fit(X_train[features])\n",
    "    # Reports Performance\n",
    "    benchmark = evaluate_model(model, X_test, y_test)\n",
    "    scenario_sensitivity.append(benchmark)\n",
    "    data_scenarios.append([X_train,X_test,y_train,y_test,model])\n",
    "\n",
    "    \n",
    "scenario_sensitivity = pd.concat(scenario_sensitivity,axis=1).T\n",
    "scenario_sensitivity.index = [f\"scenario_{i}\" for i in range(1,4)]\n",
    "data_scenarios_dict = {k:v for k,v in zip([f\"scenario_{i}\" for i in range(1,4)],data_scenarios) } \n",
    "scenario_sensitivity\n",
    "#____________________________________________________________________________"
   ]
  },
  {
   "cell_type": "code",
   "execution_count": null,
   "id": "cd97e7ab-2631-4c2f-900b-acd2be3a548f",
   "metadata": {
    "tags": []
   },
   "outputs": [],
   "source": [
    "import matplotlib.pyplot as plt\n",
    "import seaborn as sns\n",
    "n =3\n",
    "s = scenario_sensitivity.loc[f\"scenario_{n}\"].round(3)\n",
    "s.index = ['isolation forest','dummy model','random guess']\n",
    "\n",
    "time_props = f\"Validation of Fraud Scenario {n}\"\n",
    "legend_props = \"Train:04-07;Test:08-09\"\n",
    "my_cmap = sns.light_palette(\"Blue\", as_cmap=True)\n",
    "fig, ax = plt.subplots(layout='constrained',figsize=(10, 4))\n",
    "ax.set_title(f\"{time_props}\")\n",
    "ax.set_xlabel(\"AUC\")\n",
    "colorad = [\"#457b9d\", \"#98c1d9\", \"#3d5a80\"]\n",
    "ax.barh(y = s.index,width = s.values, color=colorad[::-1])\n",
    "ax.bar_label(ax.containers[0],fontsize=8, padding=3)\n",
    "ax.spines[['right', 'top']].set_visible(False)\n",
    "ax.legend([legend_props])\n",
    "\n",
    "fig.savefig(f'auc_fraud_scenario_{n}.png',transparent=True)"
   ]
  },
  {
   "cell_type": "code",
   "execution_count": null,
   "id": "2c374564-f23c-40e7-9e1d-a7ee3adbafd5",
   "metadata": {
    "tags": []
   },
   "outputs": [],
   "source": [
    "fig, ax = plt.subplots(layout='constrained',figsize=(6, 4))\n",
    "for n,c in enumerate([\"#457b9d\", \"#98c1d9\", \"#3d5a80\"]):\n",
    "    n+=1\n",
    "    X_test =  data_scenarios_dict[f\"scenario_{n}\"][1]\n",
    "    y_test =  data_scenarios_dict[f\"scenario_{n}\"][3]\n",
    "    scores = -data_scenarios_dict[f\"scenario_{n}\"][-1].score_samples(X_test)\n",
    "    fpr, tpr, thresholds = roc_curve(y_test,scores,pos_label=1)\n",
    "    auc = roc_auc_score(y_test, scores)\n",
    "    ax.plot(fpr, tpr, color =  c,linestyle = \"-\" ,lw=2,label = f\"Fraud Scenario {n}:{round(auc,3)}\")\n",
    "    \n",
    "ax.plot(np.arange(100)/100, np.arange(100)/100, '#e63946',linestyle = \"--\", lw=2)\n",
    "ax.set_xlabel('False Positive Rate')\n",
    "ax.set_ylabel('True Positive Rate')\n",
    "ax.set_title(f\"ROC for Fraud Scenario\")\n",
    "ax.spines[['right', 'top']].set_visible(False)\n",
    "ax.legend()\n",
    "plt.show()\n",
    "fig.savefig(f'roc_fraud_scenarios.png',transparent=True)"
   ]
  },
  {
   "cell_type": "code",
   "execution_count": null,
   "id": "66da40bb-01db-4835-bbe5-613a6fb52e00",
   "metadata": {},
   "outputs": [],
   "source": []
  }
 ],
 "metadata": {
  "kernelspec": {
   "display_name": "Python 3 (ipykernel)",
   "language": "python",
   "name": "python3"
  },
  "language_info": {
   "codemirror_mode": {
    "name": "ipython",
    "version": 3
   },
   "file_extension": ".py",
   "mimetype": "text/x-python",
   "name": "python",
   "nbconvert_exporter": "python",
   "pygments_lexer": "ipython3",
   "version": "3.8.5"
  }
 },
 "nbformat": 4,
 "nbformat_minor": 5
}
