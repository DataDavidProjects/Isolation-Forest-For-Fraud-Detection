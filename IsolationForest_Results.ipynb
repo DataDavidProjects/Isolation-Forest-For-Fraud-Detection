{
 "cells": [
  {
   "cell_type": "markdown",
   "id": "11055744-a98f-4e96-8a83-bc2bcff75c7b",
   "metadata": {},
   "source": [
    "# Credit card fraud detection through isolation forest"
   ]
  },
  {
   "cell_type": "markdown",
   "id": "8717915d-b230-4b5d-8a7a-5dec36eb5c8f",
   "metadata": {
    "tags": []
   },
   "source": [
    "### Import Data"
   ]
  },
  {
   "cell_type": "code",
   "execution_count": 1,
   "id": "614034f0-776b-4f2d-8cc8-6bea45e8c6a5",
   "metadata": {
    "tags": []
   },
   "outputs": [],
   "source": [
    "%load_ext autoreload\n",
    "%autoreload 2\n",
    "import warnings\n",
    "warnings.filterwarnings(\"ignore\")"
   ]
  },
  {
   "cell_type": "code",
   "execution_count": 2,
   "id": "8e482298-4568-45fb-9597-6ed753460df9",
   "metadata": {
    "tags": []
   },
   "outputs": [],
   "source": [
    "import sys\n",
    "sys.path.append(\"/Isolation-Forest-For-Fraud-Detection/src/\")\n",
    "import numpy as np\n",
    "import pandas as pd\n",
    "from sklearn.ensemble import IsolationForest\n",
    "from src.preprocessing.data import read_all_trx, train_test_split_transactions\n",
    "from src.preprocessing.features import create_feature_matrix\n",
    "from src.model.performance import evaluate_model, random_search_cv,time_window_cv\n",
    "from src.preprocessing.helpers import scenario_sample\n",
    "from src.plotting_functions.plot_results import * \n",
    "\n",
    "from sklearn.metrics import roc_auc_score,roc_curve\n",
    "import matplotlib.pyplot as plt\n",
    "import seaborn as sns\n",
    "from matplotlib.colors import ListedColormap"
   ]
  },
  {
   "cell_type": "code",
   "execution_count": null,
   "id": "42bbbb47-8a3b-4ac4-a232-8064fe9c61f7",
   "metadata": {
    "tags": []
   },
   "outputs": [],
   "source": [
    "#______________________________ DATA______________________________________\n",
    "start = '2018-04-01'\n",
    "end = '2018-09-30'\n",
    "calendar = pd.date_range(start, end, inclusive=\"both\").strftime('%Y-%m-%d')\n",
    "root = \"https://github.com/Fraud-Detection-Handbook/simulated-data-raw/blob/main/data/\"\n",
    "path_data = [f\"{root}{date}.pkl?raw=true\" for date in calendar]\n",
    "transactions_df = read_all_trx(path_data).sort_values('TX_DATETIME').reset_index(drop=True)\n",
    "scenario_1 = transactions_df.loc[transactions_df[\"TX_FRAUD_SCENARIO\"] == 1]\n",
    "scenario_2 = transactions_df.loc[transactions_df[\"TX_FRAUD_SCENARIO\"] == 2]\n",
    "scenario_3 = transactions_df.loc[transactions_df[\"TX_FRAUD_SCENARIO\"] == 3]\n",
    "#_________________________________________________________________________"
   ]
  },
  {
   "cell_type": "code",
   "execution_count": null,
   "id": "ffa70075-9cde-4a5e-a206-78defb76944f",
   "metadata": {
    "tags": []
   },
   "outputs": [],
   "source": [
    "scenario_1.head()"
   ]
  },
  {
   "cell_type": "code",
   "execution_count": null,
   "id": "245769fe-f6b0-4de0-988c-ed6a79011bf0",
   "metadata": {
    "tags": []
   },
   "outputs": [],
   "source": [
    "transactions_df.shape"
   ]
  },
  {
   "cell_type": "markdown",
   "id": "e3cdaf34-be9e-45d3-b3e3-de2a1a1d3426",
   "metadata": {},
   "source": [
    "### Creating Features"
   ]
  },
  {
   "cell_type": "code",
   "execution_count": null,
   "id": "4f609594-fdc8-410b-85b9-eff23c72f912",
   "metadata": {
    "tags": []
   },
   "outputs": [],
   "source": [
    "#__________________________ FEATURES _________________________________\n",
    "X = create_feature_matrix(transactions_df,windows_size_in_days = [1,5,7,15,30],delay_period=7)\n",
    "target = \"TX_FRAUD\"\n",
    "\n",
    "index = \"TX_DATETIME\"\n",
    "\n",
    "train_period = \"2018-07-01\"\n",
    "\n",
    "customer_features = [i for i in X.columns if \"CUSTOMER_ID_\" in i]\n",
    "\n",
    "flag_features = [i for i in X.columns if \"TX_FLAG_\" in i]\n",
    "\n",
    "terminal_features = [i for i in X.columns if \"TERMINAL_ID_\" in i]\n",
    "\n",
    "time_features = ['TX_TIME_SECONDS', 'TX_TIME_DAYS', 'TX_MONTH', 'TX_DAY', 'TX_HOUR', 'TX_MINUTE', 'TX_DURING_WEEKEND',\n",
    "                 'TX_DURING_NIGHT']\n",
    "\n",
    "helper_columns = ['TX_FRAUD', 'TX_FRAUD_SCENARIO', 'TX_DATETIME', 'CUSTOMER_ID', 'TERMINAL_ID']\n",
    "\n",
    "features = ['TX_AMOUNT'] + flag_features + terminal_features + customer_features + time_features\n",
    "#___________________________________________________________________"
   ]
  },
  {
   "cell_type": "markdown",
   "id": "0fc21b37-a465-4300-bd62-c39f56497a26",
   "metadata": {},
   "source": [
    "### Cross Validation in Time and Features"
   ]
  },
  {
   "cell_type": "code",
   "execution_count": null,
   "id": "50766de0-fdfb-499a-a759-1f0f6451023a",
   "metadata": {
    "tags": []
   },
   "outputs": [],
   "source": [
    "model = IsolationForest()\n",
    "#________________________ FEATURE INDEPENDENT SPLIT _________________________\n",
    "basic = ['TX_AMOUNT','TX_TIME_SECONDS', 'TX_TIME_DAYS']\n",
    "features = ['TX_AMOUNT'] + flag_features + terminal_features + customer_features + time_features\n",
    "auc_are_feat_type  = pd.DataFrame()\n",
    "for feats in [basic,customer_features,time_features,terminal_features,features]:\n",
    "    # Reports Performance\n",
    "    auc_are_feat_type = pd.concat([auc_are_feat_type,time_window_cv(transactions_df,model,feats)],0)\n",
    "\n",
    "indexlist = []\n",
    "for feat in [\"raw_features\", \"customer_features\", \"time_features\", \"terminal_features\",\"total_features\"]:\n",
    "    for time in range(1, 3):\n",
    "        indexname = feat + f\"_time_folder_{time}\"\n",
    "        indexlist.append(indexname)\n",
    "auc_are_feat_type.index = indexlist\n",
    "\n",
    "validation_values  = auc_are_feat_type[\"validation\"].explode()[0::3]\n",
    "validation_values.name = \"AUC\"\n",
    "validation_values.index = indexlist\n",
    "auc_are_feat_type = pd.concat([auc_are_feat_type,validation_values],1)"
   ]
  },
  {
   "cell_type": "code",
   "execution_count": null,
   "id": "04e0145c-37d2-459e-af10-6120b1011da6",
   "metadata": {
    "tags": []
   },
   "outputs": [],
   "source": [
    "aucs = auc_are_feat_type[\"AUC\"].astype(float).round(3)\n",
    "auc_means = {\n",
    "    'Basic Features': (aucs[\"raw_features_time_folder_1\"], aucs[\"raw_features_time_folder_2\"]),\n",
    "    'Customer Features':  (aucs[\"customer_features_time_folder_1\"], aucs[\"customer_features_time_folder_2\"]),\n",
    "    'Time Features':  (aucs[\"time_features_time_folder_1\"], aucs[\"time_features_time_folder_2\"]),\n",
    "    'Terminal Features':  (aucs[\"terminal_features_time_folder_1\"], aucs[\"terminal_features_time_folder_2\"]),\n",
    "    'Total Features':   (aucs[\"total_features_time_folder_1\"], aucs[\"total_features_time_folder_2\"])\n",
    "}\n",
    "\n",
    "colorad = [\"#457b9d\",\"#e0fbfc\", \"#98c1d9\", \"#3d5a80\",\"#293241\"]\n",
    "keycol = ['Basic Features','Customer Features','Time Features','Terminal Features','Total Features']\n",
    "color_p = {k:v for k,v in zip(keycol,colorad)}\n",
    "\n",
    "time = (\"Time Window 1\", \"Time Window 2\")\n",
    "result_fig = plot_cv_results(auc_means,time,color_p,save=False)\n",
    "result_fig.show()"
   ]
  },
  {
   "cell_type": "markdown",
   "id": "ab1737b3-788d-4a04-be1e-12b4c24595dd",
   "metadata": {
    "tags": []
   },
   "source": [
    "### Fraud Scenario Analysis"
   ]
  },
  {
   "cell_type": "code",
   "execution_count": null,
   "id": "39aff945-ba85-4c33-abfd-85e550f7da30",
   "metadata": {
    "tags": []
   },
   "outputs": [],
   "source": [
    "model = IsolationForest()\n",
    "#________________________ SCENARIO  SPLIT ___________________________________\n",
    "scenario_sensitivity = []\n",
    "data_scenarios = []\n",
    "for scenario in transactions_df[\"TX_FRAUD_SCENARIO\"].unique()[1:]:\n",
    "    scenario_x = scenario_sample(transactions_df,scenario)\n",
    "    X_train,X_test,y_train,y_test = train_test_split_transactions(create_feature_matrix(scenario_x,\n",
    "                                                                                        windows_size_in_days=[1, 5, 7, 15,30],\n",
    "                                                                                        delay_period=7),\n",
    "                                                                  features,\n",
    "                                                                  train_start=\"2018-04-01\", train_end=\"2018-07-01\",\n",
    "                                                                  test_start=\"2018-08-01\",  test_end=\"2018-09-01\",\n",
    "                                                                  target=\"TX_FRAUD\")\n",
    "    \n",
    "    \n",
    "    # Fitting the model\n",
    "    model.fit(X_train[features])\n",
    "    # Reports Performance\n",
    "    benchmark = evaluate_model(model, X_test, y_test)\n",
    "    scenario_sensitivity.append(benchmark)\n",
    "    data_scenarios.append([X_train,X_test,y_train,y_test,model])\n",
    "\n",
    "    \n",
    "scenario_sensitivity = pd.concat(scenario_sensitivity,axis=1).T\n",
    "scenario_sensitivity.index = [f\"scenario_{i}\" for i in range(1,4)]\n",
    "data_scenarios_dict = {k:v for k,v in zip([f\"scenario_{i}\" for i in range(1,4)],data_scenarios) } \n",
    "scenario_sensitivity\n",
    "#____________________________________________________________________________"
   ]
  },
  {
   "cell_type": "code",
   "execution_count": null,
   "id": "2c374564-f23c-40e7-9e1d-a7ee3adbafd5",
   "metadata": {
    "tags": []
   },
   "outputs": [],
   "source": [
    "plot_roc_scenarios(data_scenarios_dict).show()"
   ]
  },
  {
   "cell_type": "markdown",
   "id": "d657ab3e-ceea-4429-90ea-f9c9ee30ed17",
   "metadata": {},
   "source": [
    "### Stream of Transactions Scoring"
   ]
  },
  {
   "cell_type": "code",
   "execution_count": null,
   "id": "4e566e6f-a8d8-43a1-afa2-62fff3a36a55",
   "metadata": {
    "tags": []
   },
   "outputs": [],
   "source": [
    "import datetime \n",
    "user = 27\n",
    "user_trx_total = transactions_df.loc[transactions_df[\"CUSTOMER_ID\"]==user,:].copy().reset_index(drop=True)"
   ]
  },
  {
   "cell_type": "code",
   "execution_count": null,
   "id": "b0d678c4-d060-41d6-8668-38a7908605a2",
   "metadata": {
    "tags": []
   },
   "outputs": [],
   "source": [
    "transaction_period = transactions_df.loc[(transactions_df[\"TX_DATETIME\"].dt.date>datetime.date(2018,4,1)) & ( transactions_df[\"TX_DATETIME\"].dt.date<datetime.date(2018,6,1)),:]\n",
    "X_train = create_feature_matrix(transaction_period,windows_size_in_days = [1,5,7,15,30],delay_period=7)\n",
    "target = \"TX_FRAUD\"\n",
    "model = IsolationForest()\n",
    "# Fitting the model\n",
    "model = model.fit(X_train[features])"
   ]
  },
  {
   "cell_type": "code",
   "execution_count": null,
   "id": "93e3e61c-48d0-4832-bd25-ef97db6737f9",
   "metadata": {
    "tags": []
   },
   "outputs": [],
   "source": [
    "score_training = model.score_samples(X_train[features])"
   ]
  },
  {
   "cell_type": "code",
   "execution_count": null,
   "id": "041e26d1-96e6-488c-9764-ec2be7c170f5",
   "metadata": {
    "tags": []
   },
   "outputs": [],
   "source": [
    "fig, ax = plt.subplots(layout='constrained',figsize=(8, 4))\n",
    "sns.histplot(pd.Series(score_training), kde=True,stat=\"density\",ax = ax,label = \"Python implementation is reversed\")\n",
    "ax.spines[['right', 'top']].set_visible(False)\n",
    "plt.axvline(np.percentile(score_training,1),linestyle = \"--\",label=\"Possible AnomalyFlag/Contamination\")\n",
    "plt.legend()\n",
    "ax.set_title(\"Anomaly Score\")"
   ]
  },
  {
   "cell_type": "code",
   "execution_count": null,
   "id": "09b76e24-96be-443f-b069-a65719d1d8e2",
   "metadata": {
    "tags": []
   },
   "outputs": [],
   "source": [
    "import time \n",
    "fig, ax = plt.subplots(layout='constrained',figsize=(10, 4))\n",
    "sns.histplot(pd.Series(score_training).sample(500), kde=True,stat=\"density\",ax = ax,label = \"Distribution of Anomaly Score in Past TRX\")\n",
    "plt.axvline(np.percentile(score_training,1),linestyle = \"--\",label=\"Possible AnomalyFlag/Contamination\",color = \"orange\")\n",
    "user_trx =  user_trx_total.loc[ ( user_trx_total[\"TX_DATETIME\"].dt.date >  datetime.date(2018,4,1) )  & ( user_trx_total[\"TX_DATETIME\"].dt.date <  datetime.date(2018,6,1)  ) ]\n",
    "last_trx_idx = user_trx.index[-1]\n",
    "for i in range(100):\n",
    "    #time.sleep(0.1)\n",
    "    last_trx_idx+=1\n",
    "    user_trx  = user_trx_total.iloc[0:last_trx_idx,:]\n",
    "    X_test = create_feature_matrix(user_trx,windows_size_in_days = [1,5,7,15,30],delay_period=7).tail(1)\n",
    "    scores = model.score_samples(X_test[features])\n",
    "    #print(f\"Score of Isolation forest: {scores[0]}\")\n",
    "    #display( user_trx.tail(1) )\n",
    "    if user_trx[\"TX_FRAUD\"].tail(1).item() == 1:\n",
    "        plt.axvline(scores[0],linestyle = \"--\", color=\"red\",label=f\"Score of Fraud\")\n",
    "    else:\n",
    "        plt.axvline(scores[0],linestyle = \"--\", color=\"grey\")\n",
    "        \n",
    "\n",
    "plt.axvline(scores[0],linestyle = \"--\",label=f\"Score of Transactions\")\n",
    "ax.spines[['right', 'top']].set_visible(False)\n",
    "ax.set_title(\"Anomaly Score\")\n",
    "plt.legend()\n",
    "plt.show()"
   ]
  },
  {
   "cell_type": "code",
   "execution_count": null,
   "id": "4d243541-aa27-4191-a375-ba5b50157b55",
   "metadata": {},
   "outputs": [],
   "source": []
  }
 ],
 "metadata": {
  "kernelspec": {
   "display_name": "Python 3 (ipykernel)",
   "language": "python",
   "name": "python3"
  },
  "language_info": {
   "codemirror_mode": {
    "name": "ipython",
    "version": 3
   },
   "file_extension": ".py",
   "mimetype": "text/x-python",
   "name": "python",
   "nbconvert_exporter": "python",
   "pygments_lexer": "ipython3",
   "version": "3.8.5"
  }
 },
 "nbformat": 4,
 "nbformat_minor": 5
}
