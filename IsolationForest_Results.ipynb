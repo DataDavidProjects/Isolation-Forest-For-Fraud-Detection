{
 "cells": [
  {
   "cell_type": "markdown",
   "id": "11055744-a98f-4e96-8a83-bc2bcff75c7b",
   "metadata": {},
   "source": [
    "# Credit card fraud detection through isolation forest"
   ]
  },
  {
   "cell_type": "markdown",
   "id": "8717915d-b230-4b5d-8a7a-5dec36eb5c8f",
   "metadata": {
    "tags": []
   },
   "source": [
    "### Import Data"
   ]
  },
  {
   "cell_type": "code",
   "execution_count": null,
   "id": "fe0f4ad7-eb75-47f5-89c5-069fbbc6c8b1",
   "metadata": {
    "tags": []
   },
   "outputs": [],
   "source": [
    "#!pip install scikit-learn==1.1.1"
   ]
  },
  {
   "cell_type": "code",
   "execution_count": 1,
   "id": "614034f0-776b-4f2d-8cc8-6bea45e8c6a5",
   "metadata": {
    "tags": []
   },
   "outputs": [],
   "source": [
    "%load_ext autoreload\n",
    "%autoreload 2\n",
    "import warnings\n",
    "warnings.filterwarnings(\"ignore\")"
   ]
  },
  {
   "cell_type": "code",
   "execution_count": 2,
   "id": "8e482298-4568-45fb-9597-6ed753460df9",
   "metadata": {
    "tags": []
   },
   "outputs": [],
   "source": [
    "import sys\n",
    "sys.path.append(\"/Isolation-Forest-For-Fraud-Detection/src/\")\n",
    "import numpy as np\n",
    "import pandas as pd\n",
    "from sklearn.ensemble import IsolationForest,RandomForestClassifier\n",
    "from src.preprocessing.data import read_all_trx, train_test_split_transactions\n",
    "from src.preprocessing.features import create_feature_matrix\n",
    "from src.model.performance import evaluate_model, random_search_cv,time_window_cv\n",
    "from src.preprocessing.helpers import scenario_sample\n",
    "from src.plotting_functions.plot_results import * \n",
    "\n",
    "from sklearn.metrics import roc_auc_score,roc_curve\n",
    "import matplotlib.pyplot as plt\n",
    "import seaborn as sns\n",
    "from matplotlib.colors import ListedColormap"
   ]
  },
  {
   "cell_type": "code",
   "execution_count": 3,
   "id": "42bbbb47-8a3b-4ac4-a232-8064fe9c61f7",
   "metadata": {
    "tags": []
   },
   "outputs": [
    {
     "name": "stdout",
     "output_type": "stream",
     "text": [
      "Execution time: 160.2102313041687 seconds\n"
     ]
    }
   ],
   "source": [
    "#______________________________ DATA______________________________________\n",
    "start = '2018-04-01'\n",
    "end = '2018-09-30'\n",
    "calendar = pd.date_range(start, end, inclusive=\"both\").strftime('%Y-%m-%d')\n",
    "root = \"https://github.com/Fraud-Detection-Handbook/simulated-data-raw/blob/main/data/\"\n",
    "path_data = [f\"{root}{date}.pkl?raw=true\" for date in calendar]\n",
    "transactions_df = read_all_trx(path_data).sort_values('TX_DATETIME').reset_index(drop=True)\n",
    "scenario_1 = transactions_df.loc[transactions_df[\"TX_FRAUD_SCENARIO\"] == 1]\n",
    "scenario_2 = transactions_df.loc[transactions_df[\"TX_FRAUD_SCENARIO\"] == 2]\n",
    "scenario_3 = transactions_df.loc[transactions_df[\"TX_FRAUD_SCENARIO\"] == 3]\n",
    "#_________________________________________________________________________"
   ]
  },
  {
   "cell_type": "code",
   "execution_count": 4,
   "id": "ffa70075-9cde-4a5e-a206-78defb76944f",
   "metadata": {
    "tags": []
   },
   "outputs": [
    {
     "data": {
      "text/html": [
       "<div>\n",
       "<style scoped>\n",
       "    .dataframe tbody tr th:only-of-type {\n",
       "        vertical-align: middle;\n",
       "    }\n",
       "\n",
       "    .dataframe tbody tr th {\n",
       "        vertical-align: top;\n",
       "    }\n",
       "\n",
       "    .dataframe thead th {\n",
       "        text-align: right;\n",
       "    }\n",
       "</style>\n",
       "<table border=\"1\" class=\"dataframe\">\n",
       "  <thead>\n",
       "    <tr style=\"text-align: right;\">\n",
       "      <th></th>\n",
       "      <th>TRANSACTION_ID</th>\n",
       "      <th>TX_DATETIME</th>\n",
       "      <th>CUSTOMER_ID</th>\n",
       "      <th>TERMINAL_ID</th>\n",
       "      <th>TX_AMOUNT</th>\n",
       "      <th>TX_TIME_SECONDS</th>\n",
       "      <th>TX_TIME_DAYS</th>\n",
       "      <th>TX_FRAUD</th>\n",
       "      <th>TX_FRAUD_SCENARIO</th>\n",
       "    </tr>\n",
       "  </thead>\n",
       "  <tbody>\n",
       "    <tr>\n",
       "      <th>3527</th>\n",
       "      <td>3527</td>\n",
       "      <td>2018-04-01 10:17:43</td>\n",
       "      <td>3774</td>\n",
       "      <td>3059</td>\n",
       "      <td>225.41</td>\n",
       "      <td>37063</td>\n",
       "      <td>0</td>\n",
       "      <td>1</td>\n",
       "      <td>1</td>\n",
       "    </tr>\n",
       "    <tr>\n",
       "      <th>5789</th>\n",
       "      <td>5790</td>\n",
       "      <td>2018-04-01 13:31:48</td>\n",
       "      <td>4944</td>\n",
       "      <td>6050</td>\n",
       "      <td>222.26</td>\n",
       "      <td>48708</td>\n",
       "      <td>0</td>\n",
       "      <td>1</td>\n",
       "      <td>1</td>\n",
       "    </tr>\n",
       "    <tr>\n",
       "      <th>6549</th>\n",
       "      <td>6549</td>\n",
       "      <td>2018-04-01 14:42:02</td>\n",
       "      <td>4625</td>\n",
       "      <td>9102</td>\n",
       "      <td>226.40</td>\n",
       "      <td>52922</td>\n",
       "      <td>0</td>\n",
       "      <td>1</td>\n",
       "      <td>1</td>\n",
       "    </tr>\n",
       "    <tr>\n",
       "      <th>10354</th>\n",
       "      <td>10355</td>\n",
       "      <td>2018-04-02 05:03:35</td>\n",
       "      <td>2513</td>\n",
       "      <td>1143</td>\n",
       "      <td>222.04</td>\n",
       "      <td>104615</td>\n",
       "      <td>1</td>\n",
       "      <td>1</td>\n",
       "      <td>1</td>\n",
       "    </tr>\n",
       "    <tr>\n",
       "      <th>10749</th>\n",
       "      <td>10749</td>\n",
       "      <td>2018-04-02 06:06:00</td>\n",
       "      <td>3770</td>\n",
       "      <td>5671</td>\n",
       "      <td>264.95</td>\n",
       "      <td>108360</td>\n",
       "      <td>1</td>\n",
       "      <td>1</td>\n",
       "      <td>1</td>\n",
       "    </tr>\n",
       "  </tbody>\n",
       "</table>\n",
       "</div>"
      ],
      "text/plain": [
       "       TRANSACTION_ID         TX_DATETIME CUSTOMER_ID TERMINAL_ID  TX_AMOUNT  \\\n",
       "3527             3527 2018-04-01 10:17:43        3774        3059     225.41   \n",
       "5789             5790 2018-04-01 13:31:48        4944        6050     222.26   \n",
       "6549             6549 2018-04-01 14:42:02        4625        9102     226.40   \n",
       "10354           10355 2018-04-02 05:03:35        2513        1143     222.04   \n",
       "10749           10749 2018-04-02 06:06:00        3770        5671     264.95   \n",
       "\n",
       "      TX_TIME_SECONDS TX_TIME_DAYS  TX_FRAUD  TX_FRAUD_SCENARIO  \n",
       "3527            37063            0         1                  1  \n",
       "5789            48708            0         1                  1  \n",
       "6549            52922            0         1                  1  \n",
       "10354          104615            1         1                  1  \n",
       "10749          108360            1         1                  1  "
      ]
     },
     "execution_count": 4,
     "metadata": {},
     "output_type": "execute_result"
    }
   ],
   "source": [
    "scenario_1.head()"
   ]
  },
  {
   "cell_type": "code",
   "execution_count": 5,
   "id": "245769fe-f6b0-4de0-988c-ed6a79011bf0",
   "metadata": {
    "tags": []
   },
   "outputs": [
    {
     "data": {
      "text/plain": [
       "(1754155, 9)"
      ]
     },
     "execution_count": 5,
     "metadata": {},
     "output_type": "execute_result"
    }
   ],
   "source": [
    "transactions_df.shape"
   ]
  },
  {
   "cell_type": "markdown",
   "id": "e3cdaf34-be9e-45d3-b3e3-de2a1a1d3426",
   "metadata": {
    "tags": []
   },
   "source": [
    "### Creating Features"
   ]
  },
  {
   "cell_type": "code",
   "execution_count": 6,
   "id": "4f609594-fdc8-410b-85b9-eff23c72f912",
   "metadata": {
    "tags": []
   },
   "outputs": [],
   "source": [
    "#__________________________ FEATURES _________________________________\n",
    "X = create_feature_matrix(transactions_df,windows_size_in_days = [1,5,7,15,30],delay_period=7)\n",
    "target = \"TX_FRAUD\"\n",
    "\n",
    "index = \"TX_DATETIME\"\n",
    "\n",
    "train_period = \"2018-07-01\"\n",
    "\n",
    "customer_features = [i for i in X.columns if \"CUSTOMER_ID_\" in i]\n",
    "\n",
    "flag_features = [i for i in X.columns if \"TX_FLAG_\" in i]\n",
    "\n",
    "terminal_features = [i for i in X.columns if \"TERMINAL_ID_\" in i]\n",
    "\n",
    "time_features = ['TX_TIME_SECONDS', 'TX_TIME_DAYS', 'TX_MONTH', 'TX_DAY', 'TX_HOUR', 'TX_MINUTE', 'TX_DURING_WEEKEND',\n",
    "                 'TX_DURING_NIGHT']\n",
    "\n",
    "helper_columns = ['TX_FRAUD', 'TX_FRAUD_SCENARIO', 'TX_DATETIME', 'CUSTOMER_ID', 'TERMINAL_ID']\n",
    "\n",
    "features = ['TX_AMOUNT'] + flag_features + terminal_features + customer_features + time_features\n",
    "#___________________________________________________________________"
   ]
  },
  {
   "cell_type": "markdown",
   "id": "0fc21b37-a465-4300-bd62-c39f56497a26",
   "metadata": {
    "tags": []
   },
   "source": [
    "### Cross Validation in Time and Features"
   ]
  },
  {
   "cell_type": "code",
   "execution_count": 27,
   "id": "50766de0-fdfb-499a-a759-1f0f6451023a",
   "metadata": {
    "tags": []
   },
   "outputs": [
    {
     "name": "stdout",
     "output_type": "stream",
     "text": [
      "Creating features...\n",
      "Start Time Cross Validation...\n",
      "Train: 2018-04-01 00:00:31 2018-06-01 00:00:31\n",
      "Test: 2018-07-01 00:00:31 2018-08-01 00:00:31\n",
      "Train: 2018-05-01 00:00:31 2018-07-01 00:00:31\n",
      "Test: 2018-08-01 00:00:31 2018-09-01 00:00:31\n",
      "Creating features...\n",
      "Start Time Cross Validation...\n",
      "Train: 2018-04-01 00:00:31 2018-06-01 00:00:31\n",
      "Test: 2018-07-01 00:00:31 2018-08-01 00:00:31\n",
      "Train: 2018-05-01 00:00:31 2018-07-01 00:00:31\n",
      "Test: 2018-08-01 00:00:31 2018-09-01 00:00:31\n",
      "Creating features...\n",
      "Start Time Cross Validation...\n",
      "Train: 2018-04-01 00:00:31 2018-06-01 00:00:31\n",
      "Test: 2018-07-01 00:00:31 2018-08-01 00:00:31\n",
      "Train: 2018-05-01 00:00:31 2018-07-01 00:00:31\n",
      "Test: 2018-08-01 00:00:31 2018-09-01 00:00:31\n",
      "Creating features...\n",
      "Start Time Cross Validation...\n",
      "Train: 2018-04-01 00:00:31 2018-06-01 00:00:31\n",
      "Test: 2018-07-01 00:00:31 2018-08-01 00:00:31\n",
      "Train: 2018-05-01 00:00:31 2018-07-01 00:00:31\n",
      "Test: 2018-08-01 00:00:31 2018-09-01 00:00:31\n",
      "Creating features...\n",
      "Start Time Cross Validation...\n",
      "Train: 2018-04-01 00:00:31 2018-06-01 00:00:31\n",
      "Test: 2018-07-01 00:00:31 2018-08-01 00:00:31\n",
      "Train: 2018-05-01 00:00:31 2018-07-01 00:00:31\n",
      "Test: 2018-08-01 00:00:31 2018-09-01 00:00:31\n"
     ]
    }
   ],
   "source": [
    "model = IsolationForest()\n",
    "#________________________ FEATURE INDEPENDENT SPLIT _________________________\n",
    "basic = ['TX_AMOUNT','TX_TIME_SECONDS', 'TX_TIME_DAYS']\n",
    "features = ['TX_AMOUNT'] + flag_features + terminal_features + customer_features + time_features\n",
    "auc_are_feat_type  = pd.DataFrame()\n",
    "for feats in [basic,customer_features,time_features,terminal_features,features]:\n",
    "    # Reports Performance\n",
    "    auc_are_feat_type = pd.concat([auc_are_feat_type,time_window_cv(transactions_df,model,feats)],0)\n",
    "\n",
    "indexlist = []\n",
    "for feat in [\"raw_features\", \"customer_features\", \"time_features\", \"terminal_features\",\"total_features\"]:\n",
    "    for time in range(1, 3):\n",
    "        indexname = feat + f\"_time_folder_{time}\"\n",
    "        indexlist.append(indexname)\n",
    "auc_are_feat_type.index = indexlist\n",
    "\n",
    "validation_values  = auc_are_feat_type[\"validation\"].explode()[0::3]\n",
    "validation_values.name = \"AUC\"\n",
    "validation_values.index = indexlist\n",
    "auc_are_feat_type = pd.concat([auc_are_feat_type,validation_values],1)"
   ]
  },
  {
   "cell_type": "code",
   "execution_count": 42,
   "id": "04e0145c-37d2-459e-af10-6120b1011da6",
   "metadata": {
    "tags": []
   },
   "outputs": [
    {
     "data": {
      "image/png": "[encoded data removed]",
      "text/plain": [
       "<Figure size 700x500 with 1 Axes>"
      ]
     },
     "metadata": {},
     "output_type": "display_data"
    }
   ],
   "source": [
    "aucs = auc_are_feat_type[\"AUC\"].astype(float).round(3)\n",
    "auc_means = {\n",
    "    'Basic Features': (aucs[\"raw_features_time_folder_1\"], aucs[\"raw_features_time_folder_2\"]),\n",
    "    'Customer Features':  (aucs[\"customer_features_time_folder_1\"], aucs[\"customer_features_time_folder_2\"]),\n",
    "    'Time Features':  (aucs[\"time_features_time_folder_1\"], aucs[\"time_features_time_folder_2\"]),\n",
    "    'Terminal Features':  (aucs[\"terminal_features_time_folder_1\"], aucs[\"terminal_features_time_folder_2\"]),\n",
    "    'Total Features':   (aucs[\"total_features_time_folder_1\"], aucs[\"total_features_time_folder_2\"])\n",
    "}\n",
    "\n",
    "colorad = [\"#457b9d\",\"#e0fbfc\", \"#98c1d9\", \"#3d5a80\",\"#293241\"]\n",
    "keycol = ['Basic Features','Customer Features','Time Features','Terminal Features','Total Features']\n",
    "color_p = {k:v for k,v in zip(keycol,colorad)}\n",
    "\n",
    "time = (\"Time Window 1\", \"Time Window 2\")\n",
    "result_fig = plot_cv_results(auc_means,time,color_p,save=False)\n",
    "result_fig.show()"
   ]
  },
  {
   "cell_type": "markdown",
   "id": "ab1737b3-788d-4a04-be1e-12b4c24595dd",
   "metadata": {
    "tags": []
   },
   "source": [
    "### Fraud Scenario Analysis"
   ]
  },
  {
   "cell_type": "code",
   "execution_count": 24,
   "id": "5d293d03-0da3-4b22-abff-3fcf291677b5",
   "metadata": {
    "tags": []
   },
   "outputs": [
    {
     "data": {
      "text/html": [
       "<div>\n",
       "<style scoped>\n",
       "    .dataframe tbody tr th:only-of-type {\n",
       "        vertical-align: middle;\n",
       "    }\n",
       "\n",
       "    .dataframe tbody tr th {\n",
       "        vertical-align: top;\n",
       "    }\n",
       "\n",
       "    .dataframe thead th {\n",
       "        text-align: right;\n",
       "    }\n",
       "</style>\n",
       "<table border=\"1\" class=\"dataframe\">\n",
       "  <thead>\n",
       "    <tr style=\"text-align: right;\">\n",
       "      <th></th>\n",
       "      <th>model</th>\n",
       "      <th>dummy</th>\n",
       "      <th>random</th>\n",
       "    </tr>\n",
       "  </thead>\n",
       "  <tbody>\n",
       "    <tr>\n",
       "      <th>scenario_1</th>\n",
       "      <td>0.998160</td>\n",
       "      <td>0.5</td>\n",
       "      <td>0.481809</td>\n",
       "    </tr>\n",
       "    <tr>\n",
       "      <th>scenario_2</th>\n",
       "      <td>0.979022</td>\n",
       "      <td>0.5</td>\n",
       "      <td>0.491685</td>\n",
       "    </tr>\n",
       "    <tr>\n",
       "      <th>scenario_3</th>\n",
       "      <td>0.752478</td>\n",
       "      <td>0.5</td>\n",
       "      <td>0.499587</td>\n",
       "    </tr>\n",
       "  </tbody>\n",
       "</table>\n",
       "</div>"
      ],
      "text/plain": [
       "               model  dummy    random\n",
       "scenario_1  0.998160    0.5  0.481809\n",
       "scenario_2  0.979022    0.5  0.491685\n",
       "scenario_3  0.752478    0.5  0.499587"
      ]
     },
     "execution_count": 24,
     "metadata": {},
     "output_type": "execute_result"
    }
   ],
   "source": [
    "model = IsolationForest()\n",
    "#________________________ SCENARIO  SPLIT ___________________________________\n",
    "scenario_sensitivity = []\n",
    "data_scenarios = []\n",
    "for scenario in transactions_df[\"TX_FRAUD_SCENARIO\"].unique()[1:]:\n",
    "    scenario_x = scenario_sample(transactions_df,scenario)\n",
    "    X_train,X_test,y_train,y_test = train_test_split_transactions(create_feature_matrix(scenario_x,\n",
    "                                                                                        windows_size_in_days=[1, 5, 7, 15,30],\n",
    "                                                                                        delay_period=7),\n",
    "                                                                  features,\n",
    "                                                                  train_start=\"2018-04-01\", train_end=\"2018-07-01\",\n",
    "                                                                  test_start=\"2018-08-01\",  test_end=\"2018-09-01\",\n",
    "                                                                  target=\"TX_FRAUD\")\n",
    "    \n",
    "    \n",
    "    # Fitting the model\n",
    "    model.fit(X_train[features])\n",
    "    # Reports Performance\n",
    "    benchmark = evaluate_model(model, X_test, y_test)\n",
    "    scenario_sensitivity.append(benchmark)\n",
    "    data_scenarios.append([X_train,X_test,y_train,y_test,model])\n",
    "\n",
    "    \n",
    "scenario_sensitivity = pd.concat(scenario_sensitivity,axis=1).T\n",
    "scenario_sensitivity.index = [f\"scenario_{i}\" for i in range(1,4)]\n",
    "data_scenarios_dict = {k:v for k,v in zip([f\"scenario_{i}\" for i in range(1,4)],data_scenarios) } \n",
    "scenario_sensitivity\n",
    "#____________________________________________________________________________"
   ]
  },
  {
   "cell_type": "code",
   "execution_count": 25,
   "id": "2c374564-f23c-40e7-9e1d-a7ee3adbafd5",
   "metadata": {
    "tags": []
   },
   "outputs": [
    {
     "data": {
      "image/png": "[encoded data removed]",
      "text/plain": [
       "<Figure size 600x400 with 1 Axes>"
      ]
     },
     "metadata": {},
     "output_type": "display_data"
    }
   ],
   "source": [
    "plot_roc_scenarios(data_scenarios_dict).show()"
   ]
  },
  {
   "cell_type": "markdown",
   "id": "d657ab3e-ceea-4429-90ea-f9c9ee30ed17",
   "metadata": {},
   "source": [
    "### Live Stream of Transactions Scoring with Model API"
   ]
  },
  {
   "cell_type": "code",
   "execution_count": 11,
   "id": "4e566e6f-a8d8-43a1-afa2-62fff3a36a55",
   "metadata": {
    "tags": []
   },
   "outputs": [],
   "source": [
    "import datetime \n",
    "user = 27\n",
    "user_trx_total = transactions_df.loc[transactions_df[\"CUSTOMER_ID\"]==user,:].copy().reset_index(drop=True)"
   ]
  },
  {
   "cell_type": "code",
   "execution_count": 12,
   "id": "65056b6f-6777-498d-988e-98854c96e4df",
   "metadata": {
    "tags": []
   },
   "outputs": [],
   "source": [
    "transaction_period = transactions_df.loc[(transactions_df[\"TX_DATETIME\"].dt.date>datetime.date(2018,4,1)) & ( transactions_df[\"TX_DATETIME\"].dt.date<datetime.date(2018,6,1)),:]\n",
    "X_train = create_feature_matrix(transaction_period,windows_size_in_days = [1,5,7,15,30],delay_period=7)\n",
    "target = \"TX_FRAUD\"\n"
   ]
  },
  {
   "cell_type": "code",
   "execution_count": 13,
   "id": "c9054e66-6e32-4e51-87fc-264ad7993201",
   "metadata": {
    "tags": []
   },
   "outputs": [],
   "source": [
    "target = \"TX_FRAUD\"\n",
    "\n",
    "index = \"TX_DATETIME\"\n",
    "\n",
    "train_period = \"2018-07-01\"\n",
    "\n",
    "customer_features = [i for i in X_train.columns if \"CUSTOMER_ID_\" in i]\n",
    "\n",
    "flag_features = [i for i in X_train.columns if \"TX_FLAG_\" in i]\n",
    "\n",
    "terminal_features = [i for i in X_train.columns if \"TERMINAL_ID_\" in i]\n",
    "\n",
    "time_features = ['TX_TIME_SECONDS', 'TX_TIME_DAYS', 'TX_MONTH', 'TX_DAY', 'TX_HOUR', 'TX_MINUTE', 'TX_DURING_WEEKEND',\n",
    "                 'TX_DURING_NIGHT']\n",
    "\n",
    "helper_columns = ['TX_FRAUD', 'TX_FRAUD_SCENARIO', 'TX_DATETIME', 'CUSTOMER_ID', 'TERMINAL_ID']\n",
    "\n",
    "features = ['TX_AMOUNT'] + flag_features + terminal_features + customer_features + time_features"
   ]
  },
  {
   "cell_type": "code",
   "execution_count": 14,
   "id": "e1f7d292-8ea3-4a88-93c5-38e8139ebb26",
   "metadata": {
    "tags": []
   },
   "outputs": [],
   "source": [
    "from sklearn.base import BaseEstimator, TransformerMixin\n",
    "from sklearn.utils.validation import check_array, check_is_fitted\n",
    "\n",
    "class IsolationForestScore(BaseEstimator, TransformerMixin):\n",
    "    \n",
    "    def __init__(self,*args,**kwargs):\n",
    "        self.model =  IsolationForest(*args,**kwargs)\n",
    "        \n",
    "    def fit(self,X,y=None,alert=5):\n",
    "        X = check_array(X)\n",
    "        self.model = self.model.fit(X)\n",
    "        self.alert = np.percentile(self.model.score_samples(X),alert)\n",
    "        return self\n",
    "    \n",
    "    def fit_transform(self,X,y=None):\n",
    "        X = check_array(X)\n",
    "        return self.model.fit(X).score_samples(X)\n",
    "    \n",
    "    def predict_proba(self,X,y=None):\n",
    "        check_is_fitted(self.model)\n",
    "        X = check_array(X)\n",
    "        scores = self.model.score_samples(X)\n",
    "        return scores\n",
    "    \n",
    "    def score_samples(self,X,y=None):\n",
    "        check_is_fitted(self.model)\n",
    "        X = check_array(X)\n",
    "        scores = self.model.score_samples(X)\n",
    "        return scores\n",
    "    \n",
    "    def predict(self,X,y=None):\n",
    "        check_is_fitted(self.model)\n",
    "        X = check_array(X)\n",
    "        scores = self.model.score_samples(X)\n",
    "        return (scores <  self.alert ).astype(int)*-1"
   ]
  },
  {
   "cell_type": "code",
   "execution_count": 15,
   "id": "b5910656-6960-4189-b158-652a22eb0445",
   "metadata": {
    "tags": []
   },
   "outputs": [],
   "source": [
    "model = IsolationForestScore()\n",
    "# Fitting the model\n",
    "model = model.fit(X_train[features])\n",
    "model_name = \"Isolation_Forest\""
   ]
  },
  {
   "cell_type": "code",
   "execution_count": 16,
   "id": "051bc8eb-c962-4c4a-89db-cc65f23becdb",
   "metadata": {
    "tags": []
   },
   "outputs": [
    {
     "data": {
      "text/plain": [
       "'1.1.1'"
      ]
     },
     "execution_count": 16,
     "metadata": {},
     "output_type": "execute_result"
    }
   ],
   "source": [
    "model.__getstate__()[\"model\"].__getstate__()['_sklearn_version']"
   ]
  },
  {
   "cell_type": "code",
   "execution_count": 17,
   "id": "93e3e61c-48d0-4832-bd25-ef97db6737f9",
   "metadata": {
    "tags": []
   },
   "outputs": [
    {
     "data": {
      "text/plain": [
       "array([-0.56245837, -0.54296046, -0.44472588, ..., -0.41551079,\n",
       "       -0.46044749, -0.42852863])"
      ]
     },
     "execution_count": 17,
     "metadata": {},
     "output_type": "execute_result"
    }
   ],
   "source": [
    "score_training = model.predict_proba(X_train[features])"
   ]
  },
  {
   "cell_type": "code",
   "execution_count": 18,
   "id": "041e26d1-96e6-488c-9764-ec2be7c170f5",
   "metadata": {
    "tags": []
   },
   "outputs": [
    {
     "data": {
      "text/plain": [
       "Text(0.5, 1.0, 'Anomaly Score')"
      ]
     },
     "execution_count": 18,
     "metadata": {},
     "output_type": "execute_result"
    },
    {
     "data": {
      "image/png": "[encoded data removed]",
      "text/plain": [
       "<Figure size 800x400 with 1 Axes>"
      ]
     },
     "metadata": {},
     "output_type": "display_data"
    }
   ],
   "source": [
    "fig, ax = plt.subplots(layout='constrained',figsize=(8, 4))\n",
    "sns.histplot(pd.Series(score_training), kde=True,stat=\"density\",ax = ax,label = \"Python implementation is reversed\")\n",
    "ax.spines[['right', 'top']].set_visible(False)\n",
    "plt.axvline(np.percentile(score_training,1),linestyle = \"--\",label=\"Possible AnomalyFlag/Contamination\")\n",
    "plt.legend()\n",
    "ax.set_title(\"Anomaly Score\")"
   ]
  },
  {
   "cell_type": "markdown",
   "id": "58ba4d8e-e219-4faa-a65c-bfb2eb0e1bef",
   "metadata": {
    "tags": []
   },
   "source": [
    "#### Model Deployment on Cloud"
   ]
  },
  {
   "cell_type": "code",
   "execution_count": 45,
   "id": "8729f9e7-53c7-4795-957c-507c031e55bd",
   "metadata": {
    "tags": []
   },
   "outputs": [],
   "source": [
    "from src.scoring.credentials_api import *\n",
    "from src.scoring.model_api import (APIClient,\n",
    "                                   store_model, \n",
    "                                   deploy_model,features\n",
    "                                   )"
   ]
  },
  {
   "cell_type": "code",
   "execution_count": 20,
   "id": "555619db-0027-4344-a88f-8c45905dcbeb",
   "metadata": {
    "tags": []
   },
   "outputs": [
    {
     "data": {
      "text/plain": [
       "'SUCCESS'"
      ]
     },
     "execution_count": 20,
     "metadata": {},
     "output_type": "execute_result"
    }
   ],
   "source": [
    "client = APIClient(wml_credentials)\n",
    "client.set.default_space(space_id)"
   ]
  },
  {
   "cell_type": "code",
   "execution_count": 21,
   "id": "ecad4c4a-83a3-4c57-8b10-eeea90145c3e",
   "metadata": {
    "tags": []
   },
   "outputs": [],
   "source": [
    "#client.spaces.list()"
   ]
  },
  {
   "cell_type": "code",
   "execution_count": 22,
   "id": "5fbeec83-d777-47ee-8e87-58eddd040fff",
   "metadata": {
    "tags": []
   },
   "outputs": [],
   "source": [
    "#version = 1\n",
    "#published_model = store_model(model,client,model_name = f\"{model_name}_{version}\",\n",
    "#                              sofware_spec_uid=None)\n",
    "#published_model"
   ]
  },
  {
   "cell_type": "code",
   "execution_count": 23,
   "id": "a3bbdaa2-6576-414f-b6ac-4b2583e657bb",
   "metadata": {
    "tags": []
   },
   "outputs": [],
   "source": [
    "#deployment_name = f\"Online_{model_name}_v{version}\"\n",
    "#deployment_uid = deploy_model(deployment_name,published_model,client)"
   ]
  },
  {
   "cell_type": "markdown",
   "id": "13ee36ff-ddfd-431f-b62d-6bb08a3fde03",
   "metadata": {
    "tags": []
   },
   "source": [
    "#### Scoring Transaction"
   ]
  },
  {
   "cell_type": "code",
   "execution_count": 41,
   "id": "09b76e24-96be-443f-b069-a65719d1d8e2",
   "metadata": {
    "tags": []
   },
   "outputs": [
    {
     "data": {
      "image/png": "[encoded data removed]",
      "text/plain": [
       "<Figure size 800x400 with 1 Axes>"
      ]
     },
     "metadata": {},
     "output_type": "display_data"
    }
   ],
   "source": [
    "import time \n",
    "import matplotlib.patches as mpatches\n",
    "fig, ax = plt.subplots(layout='constrained',figsize=(8, 4))\n",
    "sns.histplot(pd.Series(score_training).sample(500), kde=True,stat=\"density\",ax = ax,label = \"Distribution of Anomaly Score in Past TRX\")\n",
    "plt.axvline(np.percentile(score_training,1),linestyle = \"--\",label=\"Possible AnomalyFlag/Contamination\",color = \"#fb8500\")\n",
    "user_trx =  user_trx_total.loc[ ( user_trx_total[\"TX_DATETIME\"].dt.date >  datetime.date(2018,4,1) )  & ( user_trx_total[\"TX_DATETIME\"].dt.date <  datetime.date(2018,6,1)  ) ]\n",
    "last_trx_idx = user_trx.index[-1]\n",
    "for i in range(100):\n",
    "    #time.sleep(0.1)\n",
    "    last_trx_idx+=1\n",
    "    user_trx  = user_trx_total.iloc[0:last_trx_idx,:]\n",
    "    X_test = create_feature_matrix(user_trx,windows_size_in_days = [1,5,7,15,30],delay_period=7).tail(1)\n",
    "    \n",
    "    #________________Online Scoring_____________________\n",
    "    #fields = features\n",
    "    #values = X_test[features].values\n",
    "    #deployment_uid = 'b5ced764-f587-4fe7-8a50-a8b482bf2b99'\n",
    "    #scoring_payload = {\"input_data\": [{\"fields\": fields, \"values\": values}]}\n",
    "    #predictions = client.deployments.score(deployment_uid, scoring_payload)\n",
    "    #score = predictions['predictions'][0]['values'][0][-1]\n",
    "    #____________________________________________________\n",
    "    \n",
    "    score = model.score_samples(X_test[features])[0]\n",
    "    #print(f\"Score of Isolation forest: {scores[0]}\")\n",
    "    #display( user_trx.tail(1) )\n",
    "    if user_trx[\"TX_FRAUD\"].tail(1).item() == 1:\n",
    "        ax.axvline(score,linestyle = \"--\", color=\"#e63946\")\n",
    "    else:\n",
    "        ax.axvline(score,linestyle = \"--\", color=\"grey\")\n",
    "        \n",
    "\n",
    "red_patch = mpatches.Patch(color='#e63946', label='Fraud')\n",
    "blue_patch = mpatches.Patch(color='grey', label='Normal Transaction')\n",
    "dist_patch = mpatches.Patch(color='#457b9d', label='Distribution of Training Score')\n",
    "flag_patch = mpatches.Patch(color='#fb8500', label='Possible Alert')\n",
    "ax.spines[['right', 'top']].set_visible(False)\n",
    "ax.set_title(\"Score of Streaming Transactions for User N\")\n",
    "plt.legend(handles = [red_patch,blue_patch,dist_patch,flag_patch])\n",
    "plt.show()"
   ]
  },
  {
   "cell_type": "code",
   "execution_count": null,
   "id": "4d243541-aa27-4191-a375-ba5b50157b55",
   "metadata": {
    "tags": []
   },
   "outputs": [],
   "source": [
    "#fig.savefig('anomaly_score_api.png',transparent=True)"
   ]
  },
  {
   "cell_type": "markdown",
   "id": "470c1cdb-5a63-4527-a819-ca57fdc38116",
   "metadata": {},
   "source": [
    "### Live Scoring"
   ]
  },
  {
   "cell_type": "code",
   "execution_count": 47,
   "id": "0e4c70ab-fb1e-42ef-bbff-bc7202a6c4a4",
   "metadata": {
    "tags": []
   },
   "outputs": [
    {
     "name": "stdout",
     "output_type": "stream",
     "text": [
      "Transaction Created\n"
     ]
    },
    {
     "data": {
      "text/html": [
       "<div>\n",
       "<style scoped>\n",
       "    .dataframe tbody tr th:only-of-type {\n",
       "        vertical-align: middle;\n",
       "    }\n",
       "\n",
       "    .dataframe tbody tr th {\n",
       "        vertical-align: top;\n",
       "    }\n",
       "\n",
       "    .dataframe thead th {\n",
       "        text-align: right;\n",
       "    }\n",
       "</style>\n",
       "<table border=\"1\" class=\"dataframe\">\n",
       "  <thead>\n",
       "    <tr style=\"text-align: right;\">\n",
       "      <th></th>\n",
       "      <th>TRANSACTION_ID</th>\n",
       "      <th>TX_DATETIME</th>\n",
       "      <th>CUSTOMER_ID</th>\n",
       "      <th>TERMINAL_ID</th>\n",
       "      <th>TX_AMOUNT</th>\n",
       "      <th>TX_TIME_SECONDS</th>\n",
       "      <th>TX_TIME_DAYS</th>\n",
       "      <th>TX_FRAUD</th>\n",
       "      <th>TX_FRAUD_SCENARIO</th>\n",
       "    </tr>\n",
       "  </thead>\n",
       "  <tbody>\n",
       "    <tr>\n",
       "      <th>218</th>\n",
       "      <td>581868</td>\n",
       "      <td>2018-05-31 14:03:39</td>\n",
       "      <td>27</td>\n",
       "      <td>1818</td>\n",
       "      <td>35.6</td>\n",
       "      <td>5234619</td>\n",
       "      <td>60</td>\n",
       "      <td>0</td>\n",
       "      <td>0</td>\n",
       "    </tr>\n",
       "  </tbody>\n",
       "</table>\n",
       "</div>"
      ],
      "text/plain": [
       "     TRANSACTION_ID         TX_DATETIME CUSTOMER_ID TERMINAL_ID  TX_AMOUNT  \\\n",
       "218          581868 2018-05-31 14:03:39          27        1818       35.6   \n",
       "\n",
       "    TX_TIME_SECONDS TX_TIME_DAYS  TX_FRAUD  TX_FRAUD_SCENARIO  \n",
       "218         5234619           60         0                  0  "
      ]
     },
     "metadata": {},
     "output_type": "display_data"
    },
    {
     "name": "stdout",
     "output_type": "stream",
     "text": [
      "Evaluation completed in: 0.563\n"
     ]
    },
    {
     "data": {
      "text/plain": [
       "'Score of Isolation forest: -0.4428'"
      ]
     },
     "metadata": {},
     "output_type": "display_data"
    },
    {
     "data": {
      "text/plain": [
       "'Possible Alert of Isolation forest: -0.6'"
      ]
     },
     "metadata": {},
     "output_type": "display_data"
    },
    {
     "data": {
      "text/plain": [
       "'Transaction is Fraud: False'"
      ]
     },
     "metadata": {},
     "output_type": "display_data"
    },
    {
     "name": "stdout",
     "output_type": "stream",
     "text": [
      "******************************************************************************************************************************************************\n",
      "Transaction Created\n"
     ]
    },
    {
     "data": {
      "text/html": [
       "<div>\n",
       "<style scoped>\n",
       "    .dataframe tbody tr th:only-of-type {\n",
       "        vertical-align: middle;\n",
       "    }\n",
       "\n",
       "    .dataframe tbody tr th {\n",
       "        vertical-align: top;\n",
       "    }\n",
       "\n",
       "    .dataframe thead th {\n",
       "        text-align: right;\n",
       "    }\n",
       "</style>\n",
       "<table border=\"1\" class=\"dataframe\">\n",
       "  <thead>\n",
       "    <tr style=\"text-align: right;\">\n",
       "      <th></th>\n",
       "      <th>TRANSACTION_ID</th>\n",
       "      <th>TX_DATETIME</th>\n",
       "      <th>CUSTOMER_ID</th>\n",
       "      <th>TERMINAL_ID</th>\n",
       "      <th>TX_AMOUNT</th>\n",
       "      <th>TX_TIME_SECONDS</th>\n",
       "      <th>TX_TIME_DAYS</th>\n",
       "      <th>TX_FRAUD</th>\n",
       "      <th>TX_FRAUD_SCENARIO</th>\n",
       "    </tr>\n",
       "  </thead>\n",
       "  <tbody>\n",
       "    <tr>\n",
       "      <th>219</th>\n",
       "      <td>588441</td>\n",
       "      <td>2018-06-01 09:50:00</td>\n",
       "      <td>27</td>\n",
       "      <td>4592</td>\n",
       "      <td>32.74</td>\n",
       "      <td>5305800</td>\n",
       "      <td>61</td>\n",
       "      <td>0</td>\n",
       "      <td>0</td>\n",
       "    </tr>\n",
       "  </tbody>\n",
       "</table>\n",
       "</div>"
      ],
      "text/plain": [
       "     TRANSACTION_ID         TX_DATETIME CUSTOMER_ID TERMINAL_ID  TX_AMOUNT  \\\n",
       "219          588441 2018-06-01 09:50:00          27        4592      32.74   \n",
       "\n",
       "    TX_TIME_SECONDS TX_TIME_DAYS  TX_FRAUD  TX_FRAUD_SCENARIO  \n",
       "219         5305800           61         0                  0  "
      ]
     },
     "metadata": {},
     "output_type": "display_data"
    },
    {
     "name": "stdout",
     "output_type": "stream",
     "text": [
      "Evaluation completed in: 0.433\n"
     ]
    },
    {
     "data": {
      "text/plain": [
       "'Score of Isolation forest: -0.437'"
      ]
     },
     "metadata": {},
     "output_type": "display_data"
    },
    {
     "data": {
      "text/plain": [
       "'Possible Alert of Isolation forest: -0.6'"
      ]
     },
     "metadata": {},
     "output_type": "display_data"
    },
    {
     "data": {
      "text/plain": [
       "'Transaction is Fraud: False'"
      ]
     },
     "metadata": {},
     "output_type": "display_data"
    },
    {
     "name": "stdout",
     "output_type": "stream",
     "text": [
      "******************************************************************************************************************************************************\n",
      "Transaction Created\n"
     ]
    },
    {
     "data": {
      "text/html": [
       "<div>\n",
       "<style scoped>\n",
       "    .dataframe tbody tr th:only-of-type {\n",
       "        vertical-align: middle;\n",
       "    }\n",
       "\n",
       "    .dataframe tbody tr th {\n",
       "        vertical-align: top;\n",
       "    }\n",
       "\n",
       "    .dataframe thead th {\n",
       "        text-align: right;\n",
       "    }\n",
       "</style>\n",
       "<table border=\"1\" class=\"dataframe\">\n",
       "  <thead>\n",
       "    <tr style=\"text-align: right;\">\n",
       "      <th></th>\n",
       "      <th>TRANSACTION_ID</th>\n",
       "      <th>TX_DATETIME</th>\n",
       "      <th>CUSTOMER_ID</th>\n",
       "      <th>TERMINAL_ID</th>\n",
       "      <th>TX_AMOUNT</th>\n",
       "      <th>TX_TIME_SECONDS</th>\n",
       "      <th>TX_TIME_DAYS</th>\n",
       "      <th>TX_FRAUD</th>\n",
       "      <th>TX_FRAUD_SCENARIO</th>\n",
       "    </tr>\n",
       "  </thead>\n",
       "  <tbody>\n",
       "    <tr>\n",
       "      <th>220</th>\n",
       "      <td>592529</td>\n",
       "      <td>2018-06-01 16:08:10</td>\n",
       "      <td>27</td>\n",
       "      <td>2882</td>\n",
       "      <td>56.21</td>\n",
       "      <td>5328490</td>\n",
       "      <td>61</td>\n",
       "      <td>0</td>\n",
       "      <td>0</td>\n",
       "    </tr>\n",
       "  </tbody>\n",
       "</table>\n",
       "</div>"
      ],
      "text/plain": [
       "     TRANSACTION_ID         TX_DATETIME CUSTOMER_ID TERMINAL_ID  TX_AMOUNT  \\\n",
       "220          592529 2018-06-01 16:08:10          27        2882      56.21   \n",
       "\n",
       "    TX_TIME_SECONDS TX_TIME_DAYS  TX_FRAUD  TX_FRAUD_SCENARIO  \n",
       "220         5328490           61         0                  0  "
      ]
     },
     "metadata": {},
     "output_type": "display_data"
    },
    {
     "name": "stdout",
     "output_type": "stream",
     "text": [
      "Evaluation completed in: 0.389\n"
     ]
    },
    {
     "data": {
      "text/plain": [
       "'Score of Isolation forest: -0.4457'"
      ]
     },
     "metadata": {},
     "output_type": "display_data"
    },
    {
     "data": {
      "text/plain": [
       "'Possible Alert of Isolation forest: -0.6'"
      ]
     },
     "metadata": {},
     "output_type": "display_data"
    },
    {
     "data": {
      "text/plain": [
       "'Transaction is Fraud: False'"
      ]
     },
     "metadata": {},
     "output_type": "display_data"
    },
    {
     "name": "stdout",
     "output_type": "stream",
     "text": [
      "******************************************************************************************************************************************************\n",
      "Transaction Created\n"
     ]
    },
    {
     "data": {
      "text/html": [
       "<div>\n",
       "<style scoped>\n",
       "    .dataframe tbody tr th:only-of-type {\n",
       "        vertical-align: middle;\n",
       "    }\n",
       "\n",
       "    .dataframe tbody tr th {\n",
       "        vertical-align: top;\n",
       "    }\n",
       "\n",
       "    .dataframe thead th {\n",
       "        text-align: right;\n",
       "    }\n",
       "</style>\n",
       "<table border=\"1\" class=\"dataframe\">\n",
       "  <thead>\n",
       "    <tr style=\"text-align: right;\">\n",
       "      <th></th>\n",
       "      <th>TRANSACTION_ID</th>\n",
       "      <th>TX_DATETIME</th>\n",
       "      <th>CUSTOMER_ID</th>\n",
       "      <th>TERMINAL_ID</th>\n",
       "      <th>TX_AMOUNT</th>\n",
       "      <th>TX_TIME_SECONDS</th>\n",
       "      <th>TX_TIME_DAYS</th>\n",
       "      <th>TX_FRAUD</th>\n",
       "      <th>TX_FRAUD_SCENARIO</th>\n",
       "    </tr>\n",
       "  </thead>\n",
       "  <tbody>\n",
       "    <tr>\n",
       "      <th>221</th>\n",
       "      <td>593103</td>\n",
       "      <td>2018-06-01 17:14:43</td>\n",
       "      <td>27</td>\n",
       "      <td>5741</td>\n",
       "      <td>45.22</td>\n",
       "      <td>5332483</td>\n",
       "      <td>61</td>\n",
       "      <td>0</td>\n",
       "      <td>0</td>\n",
       "    </tr>\n",
       "  </tbody>\n",
       "</table>\n",
       "</div>"
      ],
      "text/plain": [
       "     TRANSACTION_ID         TX_DATETIME CUSTOMER_ID TERMINAL_ID  TX_AMOUNT  \\\n",
       "221          593103 2018-06-01 17:14:43          27        5741      45.22   \n",
       "\n",
       "    TX_TIME_SECONDS TX_TIME_DAYS  TX_FRAUD  TX_FRAUD_SCENARIO  \n",
       "221         5332483           61         0                  0  "
      ]
     },
     "metadata": {},
     "output_type": "display_data"
    },
    {
     "name": "stdout",
     "output_type": "stream",
     "text": [
      "Evaluation completed in: 0.382\n"
     ]
    },
    {
     "data": {
      "text/plain": [
       "'Score of Isolation forest: -0.4274'"
      ]
     },
     "metadata": {},
     "output_type": "display_data"
    },
    {
     "data": {
      "text/plain": [
       "'Possible Alert of Isolation forest: -0.6'"
      ]
     },
     "metadata": {},
     "output_type": "display_data"
    },
    {
     "data": {
      "text/plain": [
       "'Transaction is Fraud: False'"
      ]
     },
     "metadata": {},
     "output_type": "display_data"
    },
    {
     "name": "stdout",
     "output_type": "stream",
     "text": [
      "******************************************************************************************************************************************************\n",
      "Transaction Created\n"
     ]
    },
    {
     "data": {
      "text/html": [
       "<div>\n",
       "<style scoped>\n",
       "    .dataframe tbody tr th:only-of-type {\n",
       "        vertical-align: middle;\n",
       "    }\n",
       "\n",
       "    .dataframe tbody tr th {\n",
       "        vertical-align: top;\n",
       "    }\n",
       "\n",
       "    .dataframe thead th {\n",
       "        text-align: right;\n",
       "    }\n",
       "</style>\n",
       "<table border=\"1\" class=\"dataframe\">\n",
       "  <thead>\n",
       "    <tr style=\"text-align: right;\">\n",
       "      <th></th>\n",
       "      <th>TRANSACTION_ID</th>\n",
       "      <th>TX_DATETIME</th>\n",
       "      <th>CUSTOMER_ID</th>\n",
       "      <th>TERMINAL_ID</th>\n",
       "      <th>TX_AMOUNT</th>\n",
       "      <th>TX_TIME_SECONDS</th>\n",
       "      <th>TX_TIME_DAYS</th>\n",
       "      <th>TX_FRAUD</th>\n",
       "      <th>TX_FRAUD_SCENARIO</th>\n",
       "    </tr>\n",
       "  </thead>\n",
       "  <tbody>\n",
       "    <tr>\n",
       "      <th>222</th>\n",
       "      <td>593765</td>\n",
       "      <td>2018-06-01 18:51:54</td>\n",
       "      <td>27</td>\n",
       "      <td>8391</td>\n",
       "      <td>48.75</td>\n",
       "      <td>5338314</td>\n",
       "      <td>61</td>\n",
       "      <td>0</td>\n",
       "      <td>0</td>\n",
       "    </tr>\n",
       "  </tbody>\n",
       "</table>\n",
       "</div>"
      ],
      "text/plain": [
       "     TRANSACTION_ID         TX_DATETIME CUSTOMER_ID TERMINAL_ID  TX_AMOUNT  \\\n",
       "222          593765 2018-06-01 18:51:54          27        8391      48.75   \n",
       "\n",
       "    TX_TIME_SECONDS TX_TIME_DAYS  TX_FRAUD  TX_FRAUD_SCENARIO  \n",
       "222         5338314           61         0                  0  "
      ]
     },
     "metadata": {},
     "output_type": "display_data"
    },
    {
     "name": "stdout",
     "output_type": "stream",
     "text": [
      "Evaluation completed in: 0.342\n"
     ]
    },
    {
     "data": {
      "text/plain": [
       "'Score of Isolation forest: -0.4319'"
      ]
     },
     "metadata": {},
     "output_type": "display_data"
    },
    {
     "data": {
      "text/plain": [
       "'Possible Alert of Isolation forest: -0.6'"
      ]
     },
     "metadata": {},
     "output_type": "display_data"
    },
    {
     "data": {
      "text/plain": [
       "'Transaction is Fraud: False'"
      ]
     },
     "metadata": {},
     "output_type": "display_data"
    },
    {
     "name": "stdout",
     "output_type": "stream",
     "text": [
      "******************************************************************************************************************************************************\n"
     ]
    }
   ],
   "source": [
    "import time \n",
    "\n",
    "user_trx =  user_trx_total.loc[ ( user_trx_total[\"TX_DATETIME\"].dt.date >  datetime.date(2018,4,1) )  \n",
    "                               & ( user_trx_total[\"TX_DATETIME\"].dt.date <  datetime.date(2018,6,1)  ) ]\n",
    "last_trx_idx = user_trx.index[-1]\n",
    "for i in range(5):\n",
    "    time.sleep(1)\n",
    "    last_trx_idx+=1\n",
    "    user_trx  = user_trx_total.iloc[0:last_trx_idx,:]\n",
    "    X_test = create_feature_matrix(user_trx,windows_size_in_days = [1,5,7,15,30],delay_period=7).tail(1)\n",
    "    print(\"Transaction Created\")\n",
    "    display(user_trx.tail(1) )\n",
    "    t0 = time.time()\n",
    "    #________________Online Scoring_____________________\n",
    "    values = X_test[features].values\n",
    "    deployment_uid = 'b5ced764-f587-4fe7-8a50-a8b482bf2b99'\n",
    "    scoring_payload = {\"input_data\": [{\"fields\": features, \"values\": values}]}\n",
    "    predictions = client.deployments.score(deployment_uid, scoring_payload)\n",
    "    score = predictions['predictions'][0]['values'][0][-1]\n",
    "    #____________________________________________________\n",
    "    t1 = time.time()\n",
    "    print(f\"Evaluation completed in: {round(t1-t0,3)}\")\n",
    "    alert = -0.6\n",
    "    display(f\"Score of Isolation forest: {round(score,4)}\")\n",
    "    display(f\"Possible Alert of Isolation forest: {alert}\")\n",
    "    display(f\"Transaction is Fraud: {round(score,4) < alert}\")\n",
    "    \n",
    "    #local_score = model.score_samples(X_test[features])[0]\n",
    "    #display(f\"Local Score of Isolation forest: {round(local_score,4)}\")\n",
    "    \n",
    "    print(\"*\"*150)"
   ]
  },
  {
   "cell_type": "code",
   "execution_count": 43,
   "id": "7a7d86bb-e3e2-487b-a5b4-ecfa74920044",
   "metadata": {
    "tags": []
   },
   "outputs": [
    {
     "data": {
      "text/plain": [
       "['TX_AMOUNT',\n",
       " 'TX_FLAG_AMOUNT_IS_MAX_1DAY_WINDOW',\n",
       " 'TX_FLAG_QT70_1DAY_WINDOW',\n",
       " 'TX_FLAG_QT90_1DAY_WINDOW',\n",
       " 'TX_FLAG_AMOUNT_IS_MAX_5DAY_WINDOW',\n",
       " 'TX_FLAG_QT70_5DAY_WINDOW',\n",
       " 'TX_FLAG_QT90_5DAY_WINDOW',\n",
       " 'TX_FLAG_AMOUNT_IS_MAX_7DAY_WINDOW',\n",
       " 'TX_FLAG_QT70_7DAY_WINDOW',\n",
       " 'TX_FLAG_QT90_7DAY_WINDOW',\n",
       " 'TX_FLAG_AMOUNT_IS_MAX_15DAY_WINDOW',\n",
       " 'TX_FLAG_QT70_15DAY_WINDOW',\n",
       " 'TX_FLAG_QT90_15DAY_WINDOW',\n",
       " 'TX_FLAG_AMOUNT_IS_MAX_30DAY_WINDOW',\n",
       " 'TX_FLAG_QT70_30DAY_WINDOW',\n",
       " 'TX_FLAG_QT90_30DAY_WINDOW',\n",
       " 'TERMINAL_ID_NB_TX_1DAY_WINDOW',\n",
       " 'TERMINAL_ID_RISK_1DAY_WINDOW',\n",
       " 'TERMINAL_ID_NB_TX_5DAY_WINDOW',\n",
       " 'TERMINAL_ID_RISK_5DAY_WINDOW',\n",
       " 'TERMINAL_ID_NB_TX_7DAY_WINDOW',\n",
       " 'TERMINAL_ID_RISK_7DAY_WINDOW',\n",
       " 'TERMINAL_ID_NB_TX_15DAY_WINDOW',\n",
       " 'TERMINAL_ID_RISK_15DAY_WINDOW',\n",
       " 'TERMINAL_ID_NB_TX_30DAY_WINDOW',\n",
       " 'TERMINAL_ID_RISK_30DAY_WINDOW',\n",
       " 'CUSTOMER_ID_NB_TX_1DAY_WINDOW',\n",
       " 'CUSTOMER_ID_AVG_AMOUNT_1DAY_WINDOW',\n",
       " 'CUSTOMER_ID_MAX_AMOUNT_1DAY_WINDOW',\n",
       " 'CUSTOMER_ID_VC_AMOUNT_1DAY_WINDOW',\n",
       " 'CUSTOMER_ID_QT70_AMOUNT_1DAY_WINDOW',\n",
       " 'CUSTOMER_ID_QT90_AMOUNT_1DAY_WINDOW',\n",
       " 'CUSTOMER_ID_NB_TX_5DAY_WINDOW',\n",
       " 'CUSTOMER_ID_AVG_AMOUNT_5DAY_WINDOW',\n",
       " 'CUSTOMER_ID_MAX_AMOUNT_5DAY_WINDOW',\n",
       " 'CUSTOMER_ID_VC_AMOUNT_5DAY_WINDOW',\n",
       " 'CUSTOMER_ID_QT70_AMOUNT_5DAY_WINDOW',\n",
       " 'CUSTOMER_ID_QT90_AMOUNT_5DAY_WINDOW',\n",
       " 'CUSTOMER_ID_NB_TX_7DAY_WINDOW',\n",
       " 'CUSTOMER_ID_AVG_AMOUNT_7DAY_WINDOW',\n",
       " 'CUSTOMER_ID_MAX_AMOUNT_7DAY_WINDOW',\n",
       " 'CUSTOMER_ID_VC_AMOUNT_7DAY_WINDOW',\n",
       " 'CUSTOMER_ID_QT70_AMOUNT_7DAY_WINDOW',\n",
       " 'CUSTOMER_ID_QT90_AMOUNT_7DAY_WINDOW',\n",
       " 'CUSTOMER_ID_NB_TX_15DAY_WINDOW',\n",
       " 'CUSTOMER_ID_AVG_AMOUNT_15DAY_WINDOW',\n",
       " 'CUSTOMER_ID_MAX_AMOUNT_15DAY_WINDOW',\n",
       " 'CUSTOMER_ID_VC_AMOUNT_15DAY_WINDOW',\n",
       " 'CUSTOMER_ID_QT70_AMOUNT_15DAY_WINDOW',\n",
       " 'CUSTOMER_ID_QT90_AMOUNT_15DAY_WINDOW',\n",
       " 'CUSTOMER_ID_NB_TX_30DAY_WINDOW',\n",
       " 'CUSTOMER_ID_AVG_AMOUNT_30DAY_WINDOW',\n",
       " 'CUSTOMER_ID_MAX_AMOUNT_30DAY_WINDOW',\n",
       " 'CUSTOMER_ID_VC_AMOUNT_30DAY_WINDOW',\n",
       " 'CUSTOMER_ID_QT70_AMOUNT_30DAY_WINDOW',\n",
       " 'CUSTOMER_ID_QT90_AMOUNT_30DAY_WINDOW',\n",
       " 'TX_TIME_SECONDS',\n",
       " 'TX_TIME_DAYS',\n",
       " 'TX_MONTH',\n",
       " 'TX_DAY',\n",
       " 'TX_HOUR',\n",
       " 'TX_MINUTE',\n",
       " 'TX_DURING_WEEKEND',\n",
       " 'TX_DURING_NIGHT']"
      ]
     },
     "execution_count": 43,
     "metadata": {},
     "output_type": "execute_result"
    }
   ],
   "source": []
  },
  {
   "cell_type": "code",
   "execution_count": null,
   "id": "f6ddedff-c464-4c8a-b3b0-b7d530773b0e",
   "metadata": {},
   "outputs": [],
   "source": []
  }
 ],
 "metadata": {
  "kernelspec": {
   "display_name": "Python 3 (ipykernel)",
   "language": "python",
   "name": "python3"
  },
  "language_info": {
   "codemirror_mode": {
    "name": "ipython",
    "version": 3
   },
   "file_extension": ".py",
   "mimetype": "text/x-python",
   "name": "python",
   "nbconvert_exporter": "python",
   "pygments_lexer": "ipython3",
   "version": "3.10.10"
  }
 },
 "nbformat": 4,
 "nbformat_minor": 5
}
